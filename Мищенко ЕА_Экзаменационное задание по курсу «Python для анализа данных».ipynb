{
 "cells": [
  {
   "cell_type": "code",
   "execution_count": 1,
   "id": "5f4b8575-10fa-4525-9ede-59edd899f096",
   "metadata": {},
   "outputs": [],
   "source": [
    "import numpy as np\n",
    "import pandas as pd\n",
    "import requests\n",
    "import matplotlib.pyplot as plt"
   ]
  },
  {
   "cell_type": "markdown",
   "id": "2797a937-7e91-4073-be59-5bed33e564b6",
   "metadata": {},
   "source": [
    "**Задание 1: Работа с массивами NumPy**\n",
    "\n",
    "**Цель:** Проверить знание методов NumPy для анализа данных."
   ]
  },
  {
   "cell_type": "markdown",
   "id": "6b2a5539-35be-4855-854d-d790bf93b482",
   "metadata": {},
   "source": [
    "**Задание:**\n",
    "\n",
    "1) Создайте массив случайных чисел (50 элементов) из диапазона [10, 100].\n",
    "\n",
    "2) Найдите:\n",
    "\n",
    "3) Среднее арифметическое массива.\n",
    "\n",
    "4) Медиану.\n",
    "\n",
    "5) Стандартное отклонение.\n",
    "\n",
    "6) Создайте новый массив, где каждое число изначального массива делится на 3. Отфильтруйте числа, которые делятся без остатка.\n",
    "\n",
    "**Ожидаемый ответ:**\n",
    "\n",
    "Вывод среднего, медианы, стандартного отклонения.\n",
    "\n",
    "Новый массив и его фильтр.\n",
    "\n",
    "**Балл: 6**"
   ]
  },
  {
   "cell_type": "code",
   "execution_count": 3,
   "id": "61a68487-a6bb-49c3-9de4-6adf6ba56b03",
   "metadata": {},
   "outputs": [
    {
     "name": "stdout",
     "output_type": "stream",
     "text": [
      "Исходный массив случайных чисел: [78 64 49 49 99 96 88 68 45 64 80 20 83 94 21 14 90 96 70 24 53 82 14 10\n",
      " 71 92 96 40 96 91 88 26 17 41 86 64 94 83 10 14 97 61 89 40 86 43 86 20\n",
      " 13 40]\n",
      "\n",
      "Среднее арифметическое: 60.7\n",
      "Медиана: 66.0\n",
      "Стандартное отклонение: 30.076070222022025\n",
      "\n",
      "Массив случайных чисел, деленных на 3: [26.         21.33333333 16.33333333 16.33333333 33.         32.\n",
      " 29.33333333 22.66666667 15.         21.33333333 26.66666667  6.66666667\n",
      " 27.66666667 31.33333333  7.          4.66666667 30.         32.\n",
      " 23.33333333  8.         17.66666667 27.33333333  4.66666667  3.33333333\n",
      " 23.66666667 30.66666667 32.         13.33333333 32.         30.33333333\n",
      " 29.33333333  8.66666667  5.66666667 13.66666667 28.66666667 21.33333333\n",
      " 31.33333333 27.66666667  3.33333333  4.66666667 32.33333333 20.33333333\n",
      " 29.66666667 13.33333333 28.66666667 14.33333333 28.66666667  6.66666667\n",
      "  4.33333333 13.33333333]\n",
      "\n",
      "Отфильтрованный массив: [26. 33. 32. 15.  7. 30. 32.  8. 32. 32.]\n"
     ]
    }
   ],
   "source": [
    "# Создадим массив из случайных чисел из 50 элементов в диапазоне [10, 100]\n",
    "random_num_array = np.random.randint(10, 101, size=50)\n",
    "\n",
    "# Находим среднее арифметическое\n",
    "mean = np.mean(random_num_array)\n",
    "# Находим медиану\n",
    "median = np.median(random_num_array)\n",
    "# Находим стандартное отклонение\n",
    "std_deviation = np.std(random_num_array)\n",
    "\n",
    "# Создаем новый массив, где каждое число заданного массива делим на 3\n",
    "new_num_array = random_num_array / 3\n",
    "# Фильтруем числа, которые делятся без остатка\n",
    "filt_num_array = new_num_array[new_num_array % 1 == 0]\n",
    "\n",
    "# Результат\n",
    "print(\"Исходный массив случайных чисел:\", random_num_array)\n",
    "print(\"\\nСреднее арифметическое:\", mean)\n",
    "print(\"Медиана:\", median)\n",
    "print(\"Стандартное отклонение:\", std_deviation)\n",
    "print(\"\\nМассив случайных чисел, деленных на 3:\", new_num_array)\n",
    "print(\"\\nОтфильтрованный массив:\", filt_num_array)"
   ]
  },
  {
   "cell_type": "markdown",
   "id": "481ecd06-5b61-4c2d-a937-cdaac123d3dc",
   "metadata": {},
   "source": [
    "**Задание 2: Анализ данных с помощью Pandas**\n",
    "\n",
    "**Цель:** Проверить навыки анализа и обработки."
   ]
  },
  {
   "cell_type": "markdown",
   "id": "b7062cfc-f115-4086-b478-2f8d75120b1c",
   "metadata": {},
   "source": [
    "**Данные:** Используйте предоставленный CSV-файл (\"sales_data_large.csv\"), содержащий данные о продажах с полями:\n",
    "\n",
    "date (дата продаж),\n",
    "\n",
    "region (регион),\n",
    "\n",
    "product (продукт),\n",
    "\n",
    "sales (объем продаж).\n",
    "\n",
    "**Задание:**\n",
    "\n",
    "1) Загрузите данные из файла.\n",
    "\n",
    "2) Определите:\n",
    "\n",
    "3) Общее количество записей.\n",
    "\n",
    "4) Какие регионы и продукты присутствуют в данных.\n",
    "\n",
    "5) Посчитайте:\n",
    "\n",
    "6) Общие продажи по регионам.\n",
    "\n",
    "7) Средний объем продаж для каждого продукта.\n",
    "\n",
    "8) Постройте сводную таблицу, показывающую средние продажи по регионам и продуктам.\n",
    "\n",
    "**Ожидаемый ответ:**\n",
    "\n",
    "Итоги анализа данных.\n",
    "\n",
    "Построенная сводная таблица.\n",
    "\n",
    "**Балл: 9**"
   ]
  },
  {
   "cell_type": "code",
   "execution_count": 5,
   "id": "9dfd02c5-c378-4365-8498-7a3568adb497",
   "metadata": {},
   "outputs": [
    {
     "data": {
      "text/html": [
       "<div>\n",
       "<style scoped>\n",
       "    .dataframe tbody tr th:only-of-type {\n",
       "        vertical-align: middle;\n",
       "    }\n",
       "\n",
       "    .dataframe tbody tr th {\n",
       "        vertical-align: top;\n",
       "    }\n",
       "\n",
       "    .dataframe thead th {\n",
       "        text-align: right;\n",
       "    }\n",
       "</style>\n",
       "<table border=\"1\" class=\"dataframe\">\n",
       "  <thead>\n",
       "    <tr style=\"text-align: right;\">\n",
       "      <th></th>\n",
       "      <th>date</th>\n",
       "      <th>region</th>\n",
       "      <th>product</th>\n",
       "      <th>sales</th>\n",
       "    </tr>\n",
       "  </thead>\n",
       "  <tbody>\n",
       "    <tr>\n",
       "      <th>0</th>\n",
       "      <td>2024-12-01</td>\n",
       "      <td>West</td>\n",
       "      <td>Widget C</td>\n",
       "      <td>246</td>\n",
       "    </tr>\n",
       "    <tr>\n",
       "      <th>1</th>\n",
       "      <td>2024-12-01</td>\n",
       "      <td>South</td>\n",
       "      <td>Widget B</td>\n",
       "      <td>152</td>\n",
       "    </tr>\n",
       "    <tr>\n",
       "      <th>2</th>\n",
       "      <td>2024-12-01</td>\n",
       "      <td>West</td>\n",
       "      <td>Widget B</td>\n",
       "      <td>391</td>\n",
       "    </tr>\n",
       "    <tr>\n",
       "      <th>3</th>\n",
       "      <td>2024-12-01</td>\n",
       "      <td>West</td>\n",
       "      <td>Widget A</td>\n",
       "      <td>272</td>\n",
       "    </tr>\n",
       "    <tr>\n",
       "      <th>4</th>\n",
       "      <td>2024-12-01</td>\n",
       "      <td>East</td>\n",
       "      <td>Widget A</td>\n",
       "      <td>337</td>\n",
       "    </tr>\n",
       "  </tbody>\n",
       "</table>\n",
       "</div>"
      ],
      "text/plain": [
       "         date region   product  sales\n",
       "0  2024-12-01   West  Widget C    246\n",
       "1  2024-12-01  South  Widget B    152\n",
       "2  2024-12-01   West  Widget B    391\n",
       "3  2024-12-01   West  Widget A    272\n",
       "4  2024-12-01   East  Widget A    337"
      ]
     },
     "execution_count": 5,
     "metadata": {},
     "output_type": "execute_result"
    }
   ],
   "source": [
    "df2 = pd.read_csv('sales_data_large.csv')\n",
    "# Посмотрим на несколько первых записей\n",
    "df2.head()"
   ]
  },
  {
   "cell_type": "code",
   "execution_count": 7,
   "id": "33be4c52-21c5-4e0b-817e-c49ca6c946d7",
   "metadata": {},
   "outputs": [
    {
     "name": "stdout",
     "output_type": "stream",
     "text": [
      "<class 'pandas.core.frame.DataFrame'>\n",
      "RangeIndex: 500 entries, 0 to 499\n",
      "Data columns (total 4 columns):\n",
      " #   Column   Non-Null Count  Dtype \n",
      "---  ------   --------------  ----- \n",
      " 0   date     500 non-null    object\n",
      " 1   region   500 non-null    object\n",
      " 2   product  500 non-null    object\n",
      " 3   sales    500 non-null    int64 \n",
      "dtypes: int64(1), object(3)\n",
      "memory usage: 15.8+ KB\n"
     ]
    }
   ],
   "source": [
    "# Посмотрим информацию о датафрейме\n",
    "df2.info()"
   ]
  },
  {
   "cell_type": "code",
   "execution_count": 9,
   "id": "7d5b0462-125f-4525-943d-f12fbaaa8b74",
   "metadata": {},
   "outputs": [
    {
     "data": {
      "text/plain": [
       "date       False\n",
       "region     False\n",
       "product    False\n",
       "sales      False\n",
       "dtype: bool"
      ]
     },
     "execution_count": 9,
     "metadata": {},
     "output_type": "execute_result"
    }
   ],
   "source": [
    "# Проверим, в каких столбцах есть пустые значения\n",
    "df2.isnull().any()"
   ]
  },
  {
   "cell_type": "code",
   "execution_count": 11,
   "id": "b44acdd5-dc03-4b9a-9cfb-590dd0dddcf9",
   "metadata": {},
   "outputs": [
    {
     "name": "stdout",
     "output_type": "stream",
     "text": [
      "Общее количество записей: 500\n",
      "\n",
      "Регионы, присутствующие в данных: ['West' 'South' 'East' 'North']\n",
      "Продукты, присутсвующие в данных: ['Widget C' 'Widget B' 'Widget A']\n",
      "\n",
      "Общие продажи по регионам\n",
      "region\n",
      "East     29244\n",
      "North    39605\n",
      "South    33023\n",
      "West     35171\n",
      "Name: sales, dtype: int64\n",
      "\n",
      "Средний объем продаж для каждого продукта\n",
      "product\n",
      "Widget A    275.424242\n",
      "Widget B    268.331361\n",
      "Widget C    278.614458\n",
      "Name: sales, dtype: float64\n"
     ]
    }
   ],
   "source": [
    "# Общее количество записей в датафрейме\n",
    "tot_rec = df2.shape[0]\n",
    "print(f'Общее количество записей: {tot_rec}')\n",
    "\n",
    "# Регионы и продукты, присутствующие в данных\n",
    "region = df2['region'].unique()\n",
    "product = df2['product'].unique()\n",
    "print(f'\\nРегионы, присутствующие в данных: {region}')\n",
    "print(f'Продукты, присутсвующие в данных: {product}')\n",
    "\n",
    "# Общие продажи по регионам\n",
    "sales_region = df2.groupby('region')['sales'].sum()\n",
    "print('\\nОбщие продажи по регионам') \n",
    "print(sales_region)\n",
    "\n",
    "# Средний объем продаж для каждого продукта\n",
    "average_sales_product = df2.groupby('product')['sales'].mean()\n",
    "print('\\nСредний объем продаж для каждого продукта') \n",
    "print(average_sales_product)"
   ]
  },
  {
   "cell_type": "code",
   "execution_count": 13,
   "id": "2b4c70a1-a9e7-40e5-8e0c-f9ba6f4952eb",
   "metadata": {},
   "outputs": [
    {
     "name": "stdout",
     "output_type": "stream",
     "text": [
      "Средние продажи по регионам и продуктам\n"
     ]
    },
    {
     "data": {
      "text/html": [
       "<div>\n",
       "<style scoped>\n",
       "    .dataframe tbody tr th:only-of-type {\n",
       "        vertical-align: middle;\n",
       "    }\n",
       "\n",
       "    .dataframe tbody tr th {\n",
       "        vertical-align: top;\n",
       "    }\n",
       "\n",
       "    .dataframe thead th {\n",
       "        text-align: right;\n",
       "    }\n",
       "</style>\n",
       "<table border=\"1\" class=\"dataframe\">\n",
       "  <thead>\n",
       "    <tr style=\"text-align: right;\">\n",
       "      <th>product</th>\n",
       "      <th>Widget A</th>\n",
       "      <th>Widget B</th>\n",
       "      <th>Widget C</th>\n",
       "    </tr>\n",
       "    <tr>\n",
       "      <th>region</th>\n",
       "      <th></th>\n",
       "      <th></th>\n",
       "      <th></th>\n",
       "    </tr>\n",
       "  </thead>\n",
       "  <tbody>\n",
       "    <tr>\n",
       "      <th>East</th>\n",
       "      <td>291.464286</td>\n",
       "      <td>263.116279</td>\n",
       "      <td>271.361111</td>\n",
       "    </tr>\n",
       "    <tr>\n",
       "      <th>North</th>\n",
       "      <td>289.145833</td>\n",
       "      <td>238.477273</td>\n",
       "      <td>304.660000</td>\n",
       "    </tr>\n",
       "    <tr>\n",
       "      <th>South</th>\n",
       "      <td>277.380952</td>\n",
       "      <td>282.833333</td>\n",
       "      <td>263.722222</td>\n",
       "    </tr>\n",
       "    <tr>\n",
       "      <th>West</th>\n",
       "      <td>250.106383</td>\n",
       "      <td>291.550000</td>\n",
       "      <td>267.136364</td>\n",
       "    </tr>\n",
       "  </tbody>\n",
       "</table>\n",
       "</div>"
      ],
      "text/plain": [
       "product    Widget A    Widget B    Widget C\n",
       "region                                     \n",
       "East     291.464286  263.116279  271.361111\n",
       "North    289.145833  238.477273  304.660000\n",
       "South    277.380952  282.833333  263.722222\n",
       "West     250.106383  291.550000  267.136364"
      ]
     },
     "metadata": {},
     "output_type": "display_data"
    }
   ],
   "source": [
    "# Сводная таблица: средние продажи по регионам и продуктам\n",
    "table = df2.pivot_table(values='sales', index='region', columns='product', aggfunc='mean')\n",
    "print('Средние продажи по регионам и продуктам')\n",
    "display(table)"
   ]
  },
  {
   "cell_type": "markdown",
   "id": "e543bf88-9b66-481d-93b8-9befa5cda25b",
   "metadata": {},
   "source": [
    "**Задание 3: Очистка данных и визуализация**\n",
    "\n",
    "**Цель:** Проверить умение находить и исправлять ошибки в данных, а также визуализировать их."
   ]
  },
  {
   "cell_type": "markdown",
   "id": "76aad070-439e-405e-abb2-26b873af82bb",
   "metadata": {},
   "source": [
    "**Данные:** Используйте предоставленный CSV-файл (\"sales_cleaning_large.csv\"), содержащий данные о продажах с возможными пропущенными и неккоректными значениями. Поля:\n",
    "\n",
    "date (дата продаж),\n",
    "\n",
    "sales (объем продаж),\n",
    "\n",
    "region (регион).\n",
    "\n",
    "**Задание:**\n",
    "\n",
    "1) Найдите и устраните ошибки в данных:\n",
    "\n",
    "2) Заполните пропущенные даты.\n",
    "\n",
    "3) Удалите отрицательные значения в столбце sales или замените их на медиану столбца.\n",
    "\n",
    "4) Заполните пропущенные значения в sales средним значением.\n",
    "\n",
    "5) Постройте график продаж по датам. Убедитесь, что даты упорядочены.\n",
    "\n",
    "**Ожидаемый ответ:**\n",
    "\n",
    "Обработанные DataFrame.\n",
    "\n",
    "Построенный график.\n",
    "\n",
    "**Балл: 10**"
   ]
  },
  {
   "cell_type": "code",
   "execution_count": 15,
   "id": "4c3c28fe-ec32-4689-893d-cbcacada1c57",
   "metadata": {},
   "outputs": [
    {
     "data": {
      "text/html": [
       "<div>\n",
       "<style scoped>\n",
       "    .dataframe tbody tr th:only-of-type {\n",
       "        vertical-align: middle;\n",
       "    }\n",
       "\n",
       "    .dataframe tbody tr th {\n",
       "        vertical-align: top;\n",
       "    }\n",
       "\n",
       "    .dataframe thead th {\n",
       "        text-align: right;\n",
       "    }\n",
       "</style>\n",
       "<table border=\"1\" class=\"dataframe\">\n",
       "  <thead>\n",
       "    <tr style=\"text-align: right;\">\n",
       "      <th></th>\n",
       "      <th>date</th>\n",
       "      <th>sales</th>\n",
       "      <th>region</th>\n",
       "    </tr>\n",
       "  </thead>\n",
       "  <tbody>\n",
       "    <tr>\n",
       "      <th>0</th>\n",
       "      <td>2024-12-01</td>\n",
       "      <td>-450.0</td>\n",
       "      <td>East</td>\n",
       "    </tr>\n",
       "    <tr>\n",
       "      <th>1</th>\n",
       "      <td>2024-12-01</td>\n",
       "      <td>400.0</td>\n",
       "      <td>East</td>\n",
       "    </tr>\n",
       "    <tr>\n",
       "      <th>2</th>\n",
       "      <td>2024-12-01</td>\n",
       "      <td>-100.0</td>\n",
       "      <td>South</td>\n",
       "    </tr>\n",
       "    <tr>\n",
       "      <th>3</th>\n",
       "      <td>2024-12-01</td>\n",
       "      <td>350.0</td>\n",
       "      <td>West</td>\n",
       "    </tr>\n",
       "    <tr>\n",
       "      <th>4</th>\n",
       "      <td>2024-12-02</td>\n",
       "      <td>400.0</td>\n",
       "      <td>South</td>\n",
       "    </tr>\n",
       "  </tbody>\n",
       "</table>\n",
       "</div>"
      ],
      "text/plain": [
       "         date  sales region\n",
       "0  2024-12-01 -450.0   East\n",
       "1  2024-12-01  400.0   East\n",
       "2  2024-12-01 -100.0  South\n",
       "3  2024-12-01  350.0   West\n",
       "4  2024-12-02  400.0  South"
      ]
     },
     "execution_count": 15,
     "metadata": {},
     "output_type": "execute_result"
    }
   ],
   "source": [
    "df3 = pd.read_csv('sales_cleaning_large.csv')\n",
    "# Посмотрим на несколько первых записей\n",
    "df3.head()"
   ]
  },
  {
   "cell_type": "code",
   "execution_count": 17,
   "id": "056f7d42-4829-402c-93c5-7c0a828626af",
   "metadata": {},
   "outputs": [
    {
     "name": "stdout",
     "output_type": "stream",
     "text": [
      "<class 'pandas.core.frame.DataFrame'>\n",
      "RangeIndex: 200 entries, 0 to 199\n",
      "Data columns (total 3 columns):\n",
      " #   Column  Non-Null Count  Dtype  \n",
      "---  ------  --------------  -----  \n",
      " 0   date    190 non-null    object \n",
      " 1   sales   190 non-null    float64\n",
      " 2   region  200 non-null    object \n",
      "dtypes: float64(1), object(2)\n",
      "memory usage: 4.8+ KB\n"
     ]
    }
   ],
   "source": [
    "# Посмотрим информацию о датафрейме\n",
    "df3.info()"
   ]
  },
  {
   "cell_type": "code",
   "execution_count": 19,
   "id": "655b156f-046c-47d9-b05f-f565425f612a",
   "metadata": {},
   "outputs": [
    {
     "data": {
      "text/plain": [
       "date       True\n",
       "sales      True\n",
       "region    False\n",
       "dtype: bool"
      ]
     },
     "execution_count": 19,
     "metadata": {},
     "output_type": "execute_result"
    }
   ],
   "source": [
    "# Проверим, в каких столбцах есть пустые значения\n",
    "df3.isnull().any()"
   ]
  },
  {
   "cell_type": "code",
   "execution_count": 21,
   "id": "791f4bdb-cd13-41e1-8ccc-1e52a47aed6f",
   "metadata": {},
   "outputs": [
    {
     "name": "stdout",
     "output_type": "stream",
     "text": [
      "<class 'pandas.core.frame.DataFrame'>\n",
      "RangeIndex: 200 entries, 0 to 199\n",
      "Data columns (total 3 columns):\n",
      " #   Column  Non-Null Count  Dtype         \n",
      "---  ------  --------------  -----         \n",
      " 0   date    200 non-null    datetime64[ns]\n",
      " 1   sales   190 non-null    float64       \n",
      " 2   region  200 non-null    object        \n",
      "dtypes: datetime64[ns](1), float64(1), object(1)\n",
      "memory usage: 4.8+ KB\n"
     ]
    },
    {
     "data": {
      "text/plain": [
       "date      False\n",
       "sales      True\n",
       "region    False\n",
       "dtype: bool"
      ]
     },
     "execution_count": 21,
     "metadata": {},
     "output_type": "execute_result"
    }
   ],
   "source": [
    "# Заполнение пропущенных дат\n",
    "df3['date'] = pd.to_datetime(df3['date'])  # Преобразуем в формат datetime\n",
    "df3['date'] = df3['date'].ffill()  # Заполняем пропуски в столбце date предыдущими значениями, так как пропуски в конце\n",
    "df3.info()\n",
    "df3.isnull().any()"
   ]
  },
  {
   "cell_type": "code",
   "execution_count": 23,
   "id": "99abb32e-5fc5-489a-ae4f-e3e4b418ae1f",
   "metadata": {},
   "outputs": [
    {
     "data": {
      "text/html": [
       "<div>\n",
       "<style scoped>\n",
       "    .dataframe tbody tr th:only-of-type {\n",
       "        vertical-align: middle;\n",
       "    }\n",
       "\n",
       "    .dataframe tbody tr th {\n",
       "        vertical-align: top;\n",
       "    }\n",
       "\n",
       "    .dataframe thead th {\n",
       "        text-align: right;\n",
       "    }\n",
       "</style>\n",
       "<table border=\"1\" class=\"dataframe\">\n",
       "  <thead>\n",
       "    <tr style=\"text-align: right;\">\n",
       "      <th></th>\n",
       "      <th>date</th>\n",
       "      <th>sales</th>\n",
       "      <th>region</th>\n",
       "    </tr>\n",
       "  </thead>\n",
       "  <tbody>\n",
       "    <tr>\n",
       "      <th>0</th>\n",
       "      <td>2024-12-01</td>\n",
       "      <td>250.0</td>\n",
       "      <td>East</td>\n",
       "    </tr>\n",
       "    <tr>\n",
       "      <th>1</th>\n",
       "      <td>2024-12-01</td>\n",
       "      <td>400.0</td>\n",
       "      <td>East</td>\n",
       "    </tr>\n",
       "    <tr>\n",
       "      <th>2</th>\n",
       "      <td>2024-12-01</td>\n",
       "      <td>250.0</td>\n",
       "      <td>South</td>\n",
       "    </tr>\n",
       "    <tr>\n",
       "      <th>3</th>\n",
       "      <td>2024-12-01</td>\n",
       "      <td>350.0</td>\n",
       "      <td>West</td>\n",
       "    </tr>\n",
       "    <tr>\n",
       "      <th>4</th>\n",
       "      <td>2024-12-02</td>\n",
       "      <td>400.0</td>\n",
       "      <td>South</td>\n",
       "    </tr>\n",
       "  </tbody>\n",
       "</table>\n",
       "</div>"
      ],
      "text/plain": [
       "        date  sales region\n",
       "0 2024-12-01  250.0   East\n",
       "1 2024-12-01  400.0   East\n",
       "2 2024-12-01  250.0  South\n",
       "3 2024-12-01  350.0   West\n",
       "4 2024-12-02  400.0  South"
      ]
     },
     "execution_count": 23,
     "metadata": {},
     "output_type": "execute_result"
    }
   ],
   "source": [
    "# Заменяем отрицательные значения в столбце sales на медиану столбца\n",
    "sales_median = df3['sales'][df3['sales'] > 0].median()\n",
    "df3['sales'] = df3['sales'].apply(lambda x: sales_median if x < 0 else x)\n",
    "df3.head()"
   ]
  },
  {
   "cell_type": "code",
   "execution_count": 25,
   "id": "e8ec5651-c17f-4c93-a068-e63f4e3916a1",
   "metadata": {},
   "outputs": [
    {
     "data": {
      "text/plain": [
       "date      False\n",
       "sales      True\n",
       "region    False\n",
       "dtype: bool"
      ]
     },
     "execution_count": 25,
     "metadata": {},
     "output_type": "execute_result"
    }
   ],
   "source": [
    "df3.isnull().any()"
   ]
  },
  {
   "cell_type": "code",
   "execution_count": 27,
   "id": "69fc89db-cbc4-4f4f-a482-78516225e68f",
   "metadata": {},
   "outputs": [
    {
     "data": {
      "text/plain": [
       "date      False\n",
       "sales     False\n",
       "region    False\n",
       "dtype: bool"
      ]
     },
     "execution_count": 27,
     "metadata": {},
     "output_type": "execute_result"
    }
   ],
   "source": [
    "# Заполнение пропущенных значений в sales средним значением\n",
    "mean = df3['sales'].mean()\n",
    "df3['sales'] = df3['sales'].fillna(mean)\n",
    "df3.isnull().any()"
   ]
  },
  {
   "cell_type": "code",
   "execution_count": 29,
   "id": "6d04c09f-d6ce-4d38-bb6f-8b93ff573691",
   "metadata": {},
   "outputs": [
    {
     "data": {
      "text/html": [
       "<div>\n",
       "<style scoped>\n",
       "    .dataframe tbody tr th:only-of-type {\n",
       "        vertical-align: middle;\n",
       "    }\n",
       "\n",
       "    .dataframe tbody tr th {\n",
       "        vertical-align: top;\n",
       "    }\n",
       "\n",
       "    .dataframe thead th {\n",
       "        text-align: right;\n",
       "    }\n",
       "</style>\n",
       "<table border=\"1\" class=\"dataframe\">\n",
       "  <thead>\n",
       "    <tr style=\"text-align: right;\">\n",
       "      <th></th>\n",
       "      <th>date</th>\n",
       "      <th>sales</th>\n",
       "      <th>region</th>\n",
       "    </tr>\n",
       "  </thead>\n",
       "  <tbody>\n",
       "    <tr>\n",
       "      <th>0</th>\n",
       "      <td>2024-12-01</td>\n",
       "      <td>250.0</td>\n",
       "      <td>East</td>\n",
       "    </tr>\n",
       "    <tr>\n",
       "      <th>1</th>\n",
       "      <td>2024-12-01</td>\n",
       "      <td>400.0</td>\n",
       "      <td>East</td>\n",
       "    </tr>\n",
       "    <tr>\n",
       "      <th>2</th>\n",
       "      <td>2024-12-01</td>\n",
       "      <td>250.0</td>\n",
       "      <td>South</td>\n",
       "    </tr>\n",
       "    <tr>\n",
       "      <th>3</th>\n",
       "      <td>2024-12-01</td>\n",
       "      <td>350.0</td>\n",
       "      <td>West</td>\n",
       "    </tr>\n",
       "    <tr>\n",
       "      <th>13</th>\n",
       "      <td>2024-12-02</td>\n",
       "      <td>250.0</td>\n",
       "      <td>North</td>\n",
       "    </tr>\n",
       "    <tr>\n",
       "      <th>...</th>\n",
       "      <td>...</td>\n",
       "      <td>...</td>\n",
       "      <td>...</td>\n",
       "    </tr>\n",
       "    <tr>\n",
       "      <th>186</th>\n",
       "      <td>2024-12-31</td>\n",
       "      <td>250.0</td>\n",
       "      <td>East</td>\n",
       "    </tr>\n",
       "    <tr>\n",
       "      <th>185</th>\n",
       "      <td>2024-12-31</td>\n",
       "      <td>250.0</td>\n",
       "      <td>South</td>\n",
       "    </tr>\n",
       "    <tr>\n",
       "      <th>198</th>\n",
       "      <td>2024-12-31</td>\n",
       "      <td>250.0</td>\n",
       "      <td>East</td>\n",
       "    </tr>\n",
       "    <tr>\n",
       "      <th>191</th>\n",
       "      <td>2024-12-31</td>\n",
       "      <td>250.0</td>\n",
       "      <td>West</td>\n",
       "    </tr>\n",
       "    <tr>\n",
       "      <th>199</th>\n",
       "      <td>2024-12-31</td>\n",
       "      <td>250.0</td>\n",
       "      <td>North</td>\n",
       "    </tr>\n",
       "  </tbody>\n",
       "</table>\n",
       "<p>200 rows × 3 columns</p>\n",
       "</div>"
      ],
      "text/plain": [
       "          date  sales region\n",
       "0   2024-12-01  250.0   East\n",
       "1   2024-12-01  400.0   East\n",
       "2   2024-12-01  250.0  South\n",
       "3   2024-12-01  350.0   West\n",
       "13  2024-12-02  250.0  North\n",
       "..         ...    ...    ...\n",
       "186 2024-12-31  250.0   East\n",
       "185 2024-12-31  250.0  South\n",
       "198 2024-12-31  250.0   East\n",
       "191 2024-12-31  250.0   West\n",
       "199 2024-12-31  250.0  North\n",
       "\n",
       "[200 rows x 3 columns]"
      ]
     },
     "metadata": {},
     "output_type": "display_data"
    },
    {
     "data": {
      "image/png": "[encoded data removed]",
      "text/plain": [
       "<Figure size 2200x1200 with 1 Axes>"
      ]
     },
     "metadata": {},
     "output_type": "display_data"
    }
   ],
   "source": [
    "# Упорядочивание данных по дате\n",
    "df3.sort_values(by='date', inplace=True)\n",
    "display(df3)\n",
    "\n",
    "# Группируем данные по дате и суммируем объем продаж\n",
    "group = df3.groupby(\"date\")[\"sales\"].sum()\n",
    "# Сортируем данные по дате\n",
    "sorted_dates = sorted(group.index)\n",
    "sorted_sales = [group[d] for d in sorted_dates]\n",
    "\n",
    "# Построение графика продаж по датам\n",
    "plt.figure(figsize=(22, 12))  \n",
    "plt.plot(sorted_dates, sorted_sales, marker='o', linestyle='-', color='green', label='Продажи', linewidth=3, markersize=11)\n",
    "plt.title(\"Продажи по датам\", fontsize=20)\n",
    "plt.xlabel(\"Дата\", fontsize=16)\n",
    "plt.ylabel(\"Суммарный объем продаж\", fontsize=16)\n",
    "plt.grid(True)\n",
    "plt.legend(fontsize=14)  \n",
    "plt.xticks(sorted_dates, rotation=45, ha='right')  \n",
    "plt.tick_params(axis='both', which='major', labelsize=14)  \n",
    "plt.tight_layout() \n",
    "plt.show()"
   ]
  },
  {
   "cell_type": "markdown",
   "id": "3c9fb06e-7573-4ab9-919a-187c182ebc05",
   "metadata": {},
   "source": [
    "**Задание 4: Получение данных из API**\n",
    "\n",
    "**Цель:** Проверить способность работать с веб-данными."
   ]
  },
  {
   "cell_type": "markdown",
   "id": "4643db86-db03-46ce-b79b-1cd69d9c0ce1",
   "metadata": {},
   "source": [
    "**Задание:**\n",
    "\n",
    "1) Используйте открытое API (например, https://jsonplaceholder.typicode.com/users).\n",
    "\n",
    "2) Загрузите данные и создайте DataFrame с полями: id, name, email, company_name.\n",
    "\n",
    "3) Выведите таблицу с пользователями, работающими в компаниях, название которых содержит слово \"Group\".\n",
    "\n",
    "**Ожидаемый ответ:**\n",
    "\n",
    "DataFrame с результатами фильтрации.\n",
    "\n",
    "**Балл: 6**"
   ]
  },
  {
   "cell_type": "code",
   "execution_count": 31,
   "id": "f87f5fac-f7c5-4ab4-8aa4-e88c617648f2",
   "metadata": {},
   "outputs": [
    {
     "data": {
      "text/html": [
       "<div>\n",
       "<style scoped>\n",
       "    .dataframe tbody tr th:only-of-type {\n",
       "        vertical-align: middle;\n",
       "    }\n",
       "\n",
       "    .dataframe tbody tr th {\n",
       "        vertical-align: top;\n",
       "    }\n",
       "\n",
       "    .dataframe thead th {\n",
       "        text-align: right;\n",
       "    }\n",
       "</style>\n",
       "<table border=\"1\" class=\"dataframe\">\n",
       "  <thead>\n",
       "    <tr style=\"text-align: right;\">\n",
       "      <th></th>\n",
       "      <th>id</th>\n",
       "      <th>name</th>\n",
       "      <th>email</th>\n",
       "      <th>company</th>\n",
       "    </tr>\n",
       "  </thead>\n",
       "  <tbody>\n",
       "    <tr>\n",
       "      <th>0</th>\n",
       "      <td>1</td>\n",
       "      <td>Leanne Graham</td>\n",
       "      <td>Sincere@april.biz</td>\n",
       "      <td>{'name': 'Romaguera-Crona', 'catchPhrase': 'Mu...</td>\n",
       "    </tr>\n",
       "    <tr>\n",
       "      <th>1</th>\n",
       "      <td>2</td>\n",
       "      <td>Ervin Howell</td>\n",
       "      <td>Shanna@melissa.tv</td>\n",
       "      <td>{'name': 'Deckow-Crist', 'catchPhrase': 'Proac...</td>\n",
       "    </tr>\n",
       "    <tr>\n",
       "      <th>2</th>\n",
       "      <td>3</td>\n",
       "      <td>Clementine Bauch</td>\n",
       "      <td>Nathan@yesenia.net</td>\n",
       "      <td>{'name': 'Romaguera-Jacobson', 'catchPhrase': ...</td>\n",
       "    </tr>\n",
       "    <tr>\n",
       "      <th>3</th>\n",
       "      <td>4</td>\n",
       "      <td>Patricia Lebsack</td>\n",
       "      <td>Julianne.OConner@kory.org</td>\n",
       "      <td>{'name': 'Robel-Corkery', 'catchPhrase': 'Mult...</td>\n",
       "    </tr>\n",
       "    <tr>\n",
       "      <th>4</th>\n",
       "      <td>5</td>\n",
       "      <td>Chelsey Dietrich</td>\n",
       "      <td>Lucio_Hettinger@annie.ca</td>\n",
       "      <td>{'name': 'Keebler LLC', 'catchPhrase': 'User-c...</td>\n",
       "    </tr>\n",
       "  </tbody>\n",
       "</table>\n",
       "</div>"
      ],
      "text/plain": [
       "   id              name                      email  \\\n",
       "0   1     Leanne Graham          Sincere@april.biz   \n",
       "1   2      Ervin Howell          Shanna@melissa.tv   \n",
       "2   3  Clementine Bauch         Nathan@yesenia.net   \n",
       "3   4  Patricia Lebsack  Julianne.OConner@kory.org   \n",
       "4   5  Chelsey Dietrich   Lucio_Hettinger@annie.ca   \n",
       "\n",
       "                                             company  \n",
       "0  {'name': 'Romaguera-Crona', 'catchPhrase': 'Mu...  \n",
       "1  {'name': 'Deckow-Crist', 'catchPhrase': 'Proac...  \n",
       "2  {'name': 'Romaguera-Jacobson', 'catchPhrase': ...  \n",
       "3  {'name': 'Robel-Corkery', 'catchPhrase': 'Mult...  \n",
       "4  {'name': 'Keebler LLC', 'catchPhrase': 'User-c...  "
      ]
     },
     "execution_count": 31,
     "metadata": {},
     "output_type": "execute_result"
    }
   ],
   "source": [
    "# Получаем данные с API\n",
    "url = \"https://jsonplaceholder.typicode.com/users\"\n",
    "req = requests.get(url)\n",
    "data_website = req.json()\n",
    "\n",
    "# Создаем DataFrame, извлекая столбцы\n",
    "df4 = pd.DataFrame(data_website, columns=['id', 'name', 'email', 'company'])\n",
    "# Посмотрим на несколько первых записей\n",
    "df4.head()"
   ]
  },
  {
   "cell_type": "code",
   "execution_count": 33,
   "id": "da2ffc07-68bf-44a7-8d67-caa5e52cf23e",
   "metadata": {},
   "outputs": [
    {
     "data": {
      "text/html": [
       "<div>\n",
       "<style scoped>\n",
       "    .dataframe tbody tr th:only-of-type {\n",
       "        vertical-align: middle;\n",
       "    }\n",
       "\n",
       "    .dataframe tbody tr th {\n",
       "        vertical-align: top;\n",
       "    }\n",
       "\n",
       "    .dataframe thead th {\n",
       "        text-align: right;\n",
       "    }\n",
       "</style>\n",
       "<table border=\"1\" class=\"dataframe\">\n",
       "  <thead>\n",
       "    <tr style=\"text-align: right;\">\n",
       "      <th></th>\n",
       "      <th>id</th>\n",
       "      <th>name</th>\n",
       "      <th>email</th>\n",
       "      <th>company_name</th>\n",
       "    </tr>\n",
       "  </thead>\n",
       "  <tbody>\n",
       "    <tr>\n",
       "      <th>6</th>\n",
       "      <td>7</td>\n",
       "      <td>Kurtis Weissnat</td>\n",
       "      <td>Telly.Hoeger@billy.biz</td>\n",
       "      <td>Johns Group</td>\n",
       "    </tr>\n",
       "    <tr>\n",
       "      <th>7</th>\n",
       "      <td>8</td>\n",
       "      <td>Nicholas Runolfsdottir V</td>\n",
       "      <td>Sherwood@rosamond.me</td>\n",
       "      <td>Abernathy Group</td>\n",
       "    </tr>\n",
       "  </tbody>\n",
       "</table>\n",
       "</div>"
      ],
      "text/plain": [
       "   id                      name                   email     company_name\n",
       "6   7           Kurtis Weissnat  Telly.Hoeger@billy.biz      Johns Group\n",
       "7   8  Nicholas Runolfsdottir V    Sherwood@rosamond.me  Abernathy Group"
      ]
     },
     "metadata": {},
     "output_type": "display_data"
    }
   ],
   "source": [
    "# Извлекаем названия компаний company_name (name в столбце company), так как в столбце company есть ненужная для нас информация\n",
    "df4['company_name'] = df4['company'].apply(lambda x: x['name'])\n",
    "# Фильтруем пользователей, работающих в компаниях, название которых содержит слово \"Group\"\n",
    "new_df4 = df4[df4['company_name'].str.contains(\"Group\", case=False)]\n",
    "# Выводим результат\n",
    "display(new_df4[['id', 'name', 'email', 'company_name']])"
   ]
  }
 ],
 "metadata": {
  "kernelspec": {
   "display_name": "Python 3 (ipykernel)",
   "language": "python",
   "name": "python3"
  },
  "language_info": {
   "codemirror_mode": {
    "name": "ipython",
    "version": 3
   },
   "file_extension": ".py",
   "mimetype": "text/x-python",
   "name": "python",
   "nbconvert_exporter": "python",
   "pygments_lexer": "ipython3",
   "version": "3.12.4"
  }
 },
 "nbformat": 4,
 "nbformat_minor": 5
}
