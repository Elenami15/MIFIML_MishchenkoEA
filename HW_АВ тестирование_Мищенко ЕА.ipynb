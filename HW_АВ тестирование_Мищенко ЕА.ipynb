{
 "cells": [
  {
   "cell_type": "code",
   "execution_count": 1,
   "id": "e71d4732-1cbf-4a41-9b42-0118c039e4bc",
   "metadata": {},
   "outputs": [],
   "source": [
    "import pandas as pd\n",
    "import numpy as np\n",
    "import matplotlib.pyplot as plt\n",
    "from scipy.stats import norm, shapiro, mannwhitneyu\n",
    "from statsmodels.stats.proportion import proportions_ztest \n",
    "import seaborn as sns\n",
    "import warnings\n",
    "warnings.filterwarnings(\"ignore\")"
   ]
  },
  {
   "cell_type": "markdown",
   "id": "7681b2dd-4936-4884-a90c-77bc157c2217",
   "metadata": {},
   "source": [
    "### 1. Анализ структуры и предобработка данных"
   ]
  },
  {
   "cell_type": "code",
   "execution_count": 3,
   "id": "a95eba8f-abfb-4bec-b9b3-9cc8818c07f8",
   "metadata": {},
   "outputs": [
    {
     "data": {
      "text/html": [
       "<div>\n",
       "<style scoped>\n",
       "    .dataframe tbody tr th:only-of-type {\n",
       "        vertical-align: middle;\n",
       "    }\n",
       "\n",
       "    .dataframe tbody tr th {\n",
       "        vertical-align: top;\n",
       "    }\n",
       "\n",
       "    .dataframe thead th {\n",
       "        text-align: right;\n",
       "    }\n",
       "</style>\n",
       "<table border=\"1\" class=\"dataframe\">\n",
       "  <thead>\n",
       "    <tr style=\"text-align: right;\">\n",
       "      <th></th>\n",
       "      <th>Unnamed: 0</th>\n",
       "      <th>user id</th>\n",
       "      <th>test group</th>\n",
       "      <th>converted</th>\n",
       "      <th>total ads</th>\n",
       "      <th>most ads day</th>\n",
       "      <th>most ads hour</th>\n",
       "    </tr>\n",
       "  </thead>\n",
       "  <tbody>\n",
       "    <tr>\n",
       "      <th>0</th>\n",
       "      <td>0</td>\n",
       "      <td>1069124</td>\n",
       "      <td>ad</td>\n",
       "      <td>False</td>\n",
       "      <td>130</td>\n",
       "      <td>Monday</td>\n",
       "      <td>20</td>\n",
       "    </tr>\n",
       "    <tr>\n",
       "      <th>1</th>\n",
       "      <td>1</td>\n",
       "      <td>1119715</td>\n",
       "      <td>ad</td>\n",
       "      <td>False</td>\n",
       "      <td>93</td>\n",
       "      <td>Tuesday</td>\n",
       "      <td>22</td>\n",
       "    </tr>\n",
       "    <tr>\n",
       "      <th>2</th>\n",
       "      <td>2</td>\n",
       "      <td>1144181</td>\n",
       "      <td>ad</td>\n",
       "      <td>False</td>\n",
       "      <td>21</td>\n",
       "      <td>Tuesday</td>\n",
       "      <td>18</td>\n",
       "    </tr>\n",
       "    <tr>\n",
       "      <th>3</th>\n",
       "      <td>3</td>\n",
       "      <td>1435133</td>\n",
       "      <td>ad</td>\n",
       "      <td>False</td>\n",
       "      <td>355</td>\n",
       "      <td>Tuesday</td>\n",
       "      <td>10</td>\n",
       "    </tr>\n",
       "    <tr>\n",
       "      <th>4</th>\n",
       "      <td>4</td>\n",
       "      <td>1015700</td>\n",
       "      <td>ad</td>\n",
       "      <td>False</td>\n",
       "      <td>276</td>\n",
       "      <td>Friday</td>\n",
       "      <td>14</td>\n",
       "    </tr>\n",
       "  </tbody>\n",
       "</table>\n",
       "</div>"
      ],
      "text/plain": [
       "   Unnamed: 0  user id test group  converted  total ads most ads day  \\\n",
       "0           0  1069124         ad      False        130       Monday   \n",
       "1           1  1119715         ad      False         93      Tuesday   \n",
       "2           2  1144181         ad      False         21      Tuesday   \n",
       "3           3  1435133         ad      False        355      Tuesday   \n",
       "4           4  1015700         ad      False        276       Friday   \n",
       "\n",
       "   most ads hour  \n",
       "0             20  \n",
       "1             22  \n",
       "2             18  \n",
       "3             10  \n",
       "4             14  "
      ]
     },
     "execution_count": 3,
     "metadata": {},
     "output_type": "execute_result"
    }
   ],
   "source": [
    "data = pd.read_csv('marketing_AB.csv')\n",
    "data.head()"
   ]
  },
  {
   "cell_type": "markdown",
   "id": "3f0c950d-ba63-4582-8628-3e3f9ae18ca3",
   "metadata": {},
   "source": [
    "Данные представлены следующими полями:\n",
    "\n",
    "- **user id:** Идентификатор пользователя (уникальный);\n",
    "- **test group:** Если \"ad\", то человек видел рекламу, если \"psa\", то он видел только объявление государственной службы;\n",
    "- **converted:** Если человек купил продукт, то True, иначе False;\n",
    "- **total ads:** Количество рекламы, увиденной человеком;\n",
    "- **most ads day:** День, в который человек увидел наибольшее количество рекламы;\n",
    "- **most ads hour:** Час дня, в который человек увидел наибольшее количество рекламы."
   ]
  },
  {
   "cell_type": "code",
   "execution_count": 5,
   "id": "03122ae6-41b7-4345-81e8-a5eac82393f8",
   "metadata": {},
   "outputs": [
    {
     "name": "stdout",
     "output_type": "stream",
     "text": [
      "<class 'pandas.core.frame.DataFrame'>\n",
      "RangeIndex: 588101 entries, 0 to 588100\n",
      "Data columns (total 7 columns):\n",
      " #   Column         Non-Null Count   Dtype \n",
      "---  ------         --------------   ----- \n",
      " 0   Unnamed: 0     588101 non-null  int64 \n",
      " 1   user id        588101 non-null  int64 \n",
      " 2   test group     588101 non-null  object\n",
      " 3   converted      588101 non-null  bool  \n",
      " 4   total ads      588101 non-null  int64 \n",
      " 5   most ads day   588101 non-null  object\n",
      " 6   most ads hour  588101 non-null  int64 \n",
      "dtypes: bool(1), int64(4), object(2)\n",
      "memory usage: 27.5+ MB\n"
     ]
    }
   ],
   "source": [
    "data.info()"
   ]
  },
  {
   "cell_type": "markdown",
   "id": "86c61fd4-e8a3-4179-8e08-0439d2a1db99",
   "metadata": {},
   "source": [
    "Пропусков в данных нет. Сразу удалим за очевидной ненадобностью столбец Unnamed: 0 и проверим, есть ли пользователи, попавшие в обе группы. Тип данных соответствует значениям каждого из столбцов."
   ]
  },
  {
   "cell_type": "code",
   "execution_count": 7,
   "id": "fdc4cbc0-f8d0-44a0-bf78-a7476a5e6c11",
   "metadata": {},
   "outputs": [
    {
     "data": {
      "text/html": [
       "<div>\n",
       "<style scoped>\n",
       "    .dataframe tbody tr th:only-of-type {\n",
       "        vertical-align: middle;\n",
       "    }\n",
       "\n",
       "    .dataframe tbody tr th {\n",
       "        vertical-align: top;\n",
       "    }\n",
       "\n",
       "    .dataframe thead th {\n",
       "        text-align: right;\n",
       "    }\n",
       "</style>\n",
       "<table border=\"1\" class=\"dataframe\">\n",
       "  <thead>\n",
       "    <tr style=\"text-align: right;\">\n",
       "      <th></th>\n",
       "      <th>user id</th>\n",
       "      <th>test group</th>\n",
       "      <th>converted</th>\n",
       "      <th>total ads</th>\n",
       "      <th>most ads day</th>\n",
       "      <th>most ads hour</th>\n",
       "    </tr>\n",
       "  </thead>\n",
       "  <tbody>\n",
       "    <tr>\n",
       "      <th>0</th>\n",
       "      <td>1069124</td>\n",
       "      <td>ad</td>\n",
       "      <td>False</td>\n",
       "      <td>130</td>\n",
       "      <td>Monday</td>\n",
       "      <td>20</td>\n",
       "    </tr>\n",
       "    <tr>\n",
       "      <th>1</th>\n",
       "      <td>1119715</td>\n",
       "      <td>ad</td>\n",
       "      <td>False</td>\n",
       "      <td>93</td>\n",
       "      <td>Tuesday</td>\n",
       "      <td>22</td>\n",
       "    </tr>\n",
       "    <tr>\n",
       "      <th>2</th>\n",
       "      <td>1144181</td>\n",
       "      <td>ad</td>\n",
       "      <td>False</td>\n",
       "      <td>21</td>\n",
       "      <td>Tuesday</td>\n",
       "      <td>18</td>\n",
       "    </tr>\n",
       "    <tr>\n",
       "      <th>3</th>\n",
       "      <td>1435133</td>\n",
       "      <td>ad</td>\n",
       "      <td>False</td>\n",
       "      <td>355</td>\n",
       "      <td>Tuesday</td>\n",
       "      <td>10</td>\n",
       "    </tr>\n",
       "    <tr>\n",
       "      <th>4</th>\n",
       "      <td>1015700</td>\n",
       "      <td>ad</td>\n",
       "      <td>False</td>\n",
       "      <td>276</td>\n",
       "      <td>Friday</td>\n",
       "      <td>14</td>\n",
       "    </tr>\n",
       "  </tbody>\n",
       "</table>\n",
       "</div>"
      ],
      "text/plain": [
       "   user id test group  converted  total ads most ads day  most ads hour\n",
       "0  1069124         ad      False        130       Monday             20\n",
       "1  1119715         ad      False         93      Tuesday             22\n",
       "2  1144181         ad      False         21      Tuesday             18\n",
       "3  1435133         ad      False        355      Tuesday             10\n",
       "4  1015700         ad      False        276       Friday             14"
      ]
     },
     "execution_count": 7,
     "metadata": {},
     "output_type": "execute_result"
    }
   ],
   "source": [
    "data = data.drop('Unnamed: 0', axis=1)\n",
    "data.head()"
   ]
  },
  {
   "cell_type": "markdown",
   "id": "9ea1e1cd-a27d-4717-9855-fe3bb7d27b47",
   "metadata": {},
   "source": [
    "Проверка пользователей, которые могли попасть в обе группы:"
   ]
  },
  {
   "cell_type": "code",
   "execution_count": 9,
   "id": "9066bd99-1b0e-41dd-ad12-0152dbe6cd83",
   "metadata": {},
   "outputs": [
    {
     "name": "stdout",
     "output_type": "stream",
     "text": [
      "Кол-во пользователей, попавших в обе группы: 0\n"
     ]
    }
   ],
   "source": [
    "intersection_users = list(set(data[data['test group'] == 'ad']['user id'].values) & \\\n",
    "set(data[data['test group'] == 'psa']['user id'].values))\n",
    "print('Кол-во пользователей, попавших в обе группы:', len(intersection_users))"
   ]
  },
  {
   "cell_type": "markdown",
   "id": "c61a8d74-1f7f-48a9-bdf1-76922d3a6035",
   "metadata": {},
   "source": [
    "### 2. Первичный анализ результатов A/B-теста"
   ]
  },
  {
   "cell_type": "markdown",
   "id": "2cd6159d-5132-47c6-8a15-60deeb375ec1",
   "metadata": {},
   "source": [
    "Рассчитаем количествово посещений сайта и суммарное количество совершенных покупок."
   ]
  },
  {
   "cell_type": "code",
   "execution_count": 11,
   "id": "b0df3f3a-3611-4e31-92d3-6a3558314f6d",
   "metadata": {},
   "outputs": [
    {
     "data": {
      "text/html": [
       "<div>\n",
       "<style scoped>\n",
       "    .dataframe tbody tr th:only-of-type {\n",
       "        vertical-align: middle;\n",
       "    }\n",
       "\n",
       "    .dataframe tbody tr th {\n",
       "        vertical-align: top;\n",
       "    }\n",
       "\n",
       "    .dataframe thead th {\n",
       "        text-align: right;\n",
       "    }\n",
       "</style>\n",
       "<table border=\"1\" class=\"dataframe\">\n",
       "  <thead>\n",
       "    <tr style=\"text-align: right;\">\n",
       "      <th></th>\n",
       "      <th>count of visits</th>\n",
       "      <th>count of purchases</th>\n",
       "    </tr>\n",
       "    <tr>\n",
       "      <th>test group</th>\n",
       "      <th></th>\n",
       "      <th></th>\n",
       "    </tr>\n",
       "  </thead>\n",
       "  <tbody>\n",
       "    <tr>\n",
       "      <th>ad</th>\n",
       "      <td>564577</td>\n",
       "      <td>14423</td>\n",
       "    </tr>\n",
       "    <tr>\n",
       "      <th>psa</th>\n",
       "      <td>23524</td>\n",
       "      <td>420</td>\n",
       "    </tr>\n",
       "  </tbody>\n",
       "</table>\n",
       "</div>"
      ],
      "text/plain": [
       "            count of visits  count of purchases\n",
       "test group                                     \n",
       "ad                   564577               14423\n",
       "psa                   23524                 420"
      ]
     },
     "execution_count": 11,
     "metadata": {},
     "output_type": "execute_result"
    }
   ],
   "source": [
    "grouped_data = data.groupby('test group').agg({\n",
    "    'user id': 'count',\n",
    "    'converted': 'sum',\n",
    "}).rename({'user id': 'count of visits', \n",
    "           'converted': 'count of purchases'}, axis=1)\n",
    "grouped_data"
   ]
  },
  {
   "cell_type": "markdown",
   "id": "db5b01d1-8f76-4661-b300-8adaabd1d54b",
   "metadata": {},
   "source": [
    "**Промежуточный вывод:** выборки несбалансированы, количество посещений сайта в группах не сопоставимо."
   ]
  },
  {
   "cell_type": "markdown",
   "id": "8b58a4f2-95f3-4b2c-9076-e9a21c34a236",
   "metadata": {},
   "source": [
    "Рассчитаем показатели конверсии для каждой группы."
   ]
  },
  {
   "cell_type": "code",
   "execution_count": 13,
   "id": "c3e02550-b5b4-468c-b4bf-2c81d3edbed9",
   "metadata": {},
   "outputs": [
    {
     "data": {
      "text/html": [
       "<div>\n",
       "<style scoped>\n",
       "    .dataframe tbody tr th:only-of-type {\n",
       "        vertical-align: middle;\n",
       "    }\n",
       "\n",
       "    .dataframe tbody tr th {\n",
       "        vertical-align: top;\n",
       "    }\n",
       "\n",
       "    .dataframe thead th {\n",
       "        text-align: right;\n",
       "    }\n",
       "</style>\n",
       "<table border=\"1\" class=\"dataframe\">\n",
       "  <thead>\n",
       "    <tr style=\"text-align: right;\">\n",
       "      <th></th>\n",
       "      <th>count of visits</th>\n",
       "      <th>count of purchases</th>\n",
       "      <th>conversion</th>\n",
       "    </tr>\n",
       "    <tr>\n",
       "      <th>test group</th>\n",
       "      <th></th>\n",
       "      <th></th>\n",
       "      <th></th>\n",
       "    </tr>\n",
       "  </thead>\n",
       "  <tbody>\n",
       "    <tr>\n",
       "      <th>ad</th>\n",
       "      <td>564577</td>\n",
       "      <td>14423</td>\n",
       "      <td>2.554656</td>\n",
       "    </tr>\n",
       "    <tr>\n",
       "      <th>psa</th>\n",
       "      <td>23524</td>\n",
       "      <td>420</td>\n",
       "      <td>1.785411</td>\n",
       "    </tr>\n",
       "  </tbody>\n",
       "</table>\n",
       "</div>"
      ],
      "text/plain": [
       "            count of visits  count of purchases  conversion\n",
       "test group                                                 \n",
       "ad                   564577               14423    2.554656\n",
       "psa                   23524                 420    1.785411"
      ]
     },
     "execution_count": 13,
     "metadata": {},
     "output_type": "execute_result"
    }
   ],
   "source": [
    "grouped_data['conversion'] = (grouped_data['count of purchases'] / grouped_data['count of visits']) * 100\n",
    "grouped_data"
   ]
  },
  {
   "cell_type": "markdown",
   "id": "130e8ce4-2b0e-438b-b378-7b2211982403",
   "metadata": {},
   "source": [
    "Рассчитаем среднее количество рекламы, увиденной пользователем."
   ]
  },
  {
   "cell_type": "code",
   "execution_count": 15,
   "id": "bc4c2e09-d07f-435a-973a-b4ccce6fd3fb",
   "metadata": {},
   "outputs": [
    {
     "data": {
      "text/html": [
       "<div>\n",
       "<style scoped>\n",
       "    .dataframe tbody tr th:only-of-type {\n",
       "        vertical-align: middle;\n",
       "    }\n",
       "\n",
       "    .dataframe tbody tr th {\n",
       "        vertical-align: top;\n",
       "    }\n",
       "\n",
       "    .dataframe thead th {\n",
       "        text-align: right;\n",
       "    }\n",
       "</style>\n",
       "<table border=\"1\" class=\"dataframe\">\n",
       "  <thead>\n",
       "    <tr style=\"text-align: right;\">\n",
       "      <th></th>\n",
       "      <th>count of visits</th>\n",
       "      <th>count of purchases</th>\n",
       "      <th>conversion</th>\n",
       "      <th>total ads</th>\n",
       "    </tr>\n",
       "    <tr>\n",
       "      <th>test group</th>\n",
       "      <th></th>\n",
       "      <th></th>\n",
       "      <th></th>\n",
       "      <th></th>\n",
       "    </tr>\n",
       "  </thead>\n",
       "  <tbody>\n",
       "    <tr>\n",
       "      <th>ad</th>\n",
       "      <td>564577</td>\n",
       "      <td>14423</td>\n",
       "      <td>2.554656</td>\n",
       "      <td>24.823365</td>\n",
       "    </tr>\n",
       "    <tr>\n",
       "      <th>psa</th>\n",
       "      <td>23524</td>\n",
       "      <td>420</td>\n",
       "      <td>1.785411</td>\n",
       "      <td>24.761138</td>\n",
       "    </tr>\n",
       "  </tbody>\n",
       "</table>\n",
       "</div>"
      ],
      "text/plain": [
       "            count of visits  count of purchases  conversion  total ads\n",
       "test group                                                            \n",
       "ad                   564577               14423    2.554656  24.823365\n",
       "psa                   23524                 420    1.785411  24.761138"
      ]
     },
     "execution_count": 15,
     "metadata": {},
     "output_type": "execute_result"
    }
   ],
   "source": [
    "avg_ad_seen = data.groupby('test group')['total ads'].mean()\n",
    "grouped_data = grouped_data.merge(avg_ad_seen, on='test group')\n",
    "grouped_data"
   ]
  },
  {
   "cell_type": "markdown",
   "id": "f33ee5c7-a259-4eca-899e-7bb29c814bea",
   "metadata": {},
   "source": [
    "**Первичный вывод:** Конверсия для группы ad составляет 2.55, что выше показателя конверсии для группы psa, которая составляет 1.78. Среднее количество рекламы, увиденной пользователем, в обеих группах примерно одинаковое. Исходя из этих результатов можно сделать предварительный вывод, что реклама влияет на величину конверсии."
   ]
  },
  {
   "cell_type": "markdown",
   "id": "beaccc0c-d283-4e0f-a882-5cddb51c8415",
   "metadata": {},
   "source": [
    "### 3. Cтатистический анализ результатов A/B-тестирования"
   ]
  },
  {
   "cell_type": "markdown",
   "id": "3cc152d3-8f6f-4af0-870a-0ec5ca6c7c3c",
   "metadata": {},
   "source": [
    "**1) Исследуем различия по конверсиям групп.**"
   ]
  },
  {
   "cell_type": "markdown",
   "id": "f1a42d85-75bb-44fb-a7b0-2f3304d0fa8d",
   "metadata": {},
   "source": [
    "Сформулируем статистические гипотезы (от обратного исходя из первичного вывода):\n",
    "- $H_0:$ конверсия в группе А (ad) не больше, чем в группе В (psa)\n",
    "- $H_1:$ конверсии в группе A больше, чем в группе В\n",
    "\n",
    "Будем использовать Z-тест для пропорций, потому что выборка большая."
   ]
  },
  {
   "cell_type": "code",
   "execution_count": 17,
   "id": "3c2ee774-d664-4737-935e-40e7cd1af15e",
   "metadata": {},
   "outputs": [
    {
     "name": "stdout",
     "output_type": "stream",
     "text": [
      "p-value:  8.526403580779863e-14\n",
      "Отвергаем нулевую гипотезу в пользу альтернативной\n"
     ]
    }
   ],
   "source": [
    "# вычисляем значение p-value для z-теста для пропорций\n",
    "alpha = 0.05\n",
    "_, p_value = proportions_ztest(\n",
    "    count=grouped_data['count of purchases'], #число «успехов»\n",
    "    nobs=grouped_data['count of visits'], #общее число наблюдений\n",
    "    alternative='larger',\n",
    ")\n",
    "# выводим результат на экран\n",
    "print('p-value: ', p_value)\n",
    "# сравниваем полученное p-value с уровнем значимости\n",
    "if (p_value <= alpha):\n",
    "    print(\"Отвергаем нулевую гипотезу в пользу альтернативной\")\n",
    "else:\n",
    "    print(\"У нас нет оснований отвергнуть нулевую гипотезу\")"
   ]
  },
  {
   "cell_type": "markdown",
   "id": "9443924f-40fd-4fce-81ef-69518a5b1145",
   "metadata": {},
   "source": [
    "Делаем вывод, что в группе А с показом рекламы с большой долей вероятности конверсия выше."
   ]
  },
  {
   "cell_type": "markdown",
   "id": "34ceca9a-58c7-4ece-a76d-f34297239ecf",
   "metadata": {},
   "source": [
    "Рассчитаем доверительный интервал для конверсий."
   ]
  },
  {
   "cell_type": "code",
   "execution_count": 19,
   "id": "8a8b02c5-c320-43a0-8dfa-1db164b0ba71",
   "metadata": {},
   "outputs": [],
   "source": [
    "def proportion_conf_interval(x_p, n, gamma=0.95):  \n",
    "    alpha = 1 - gamma \n",
    "    z_crit = -norm.ppf(alpha/2) \n",
    "    eps = z_crit * (x_p * (1 - x_p) / n) ** 0.5 \n",
    "    lower_bound = x_p - eps \n",
    "    upper_bound = x_p + eps \n",
    "    return lower_bound, upper_bound"
   ]
  },
  {
   "cell_type": "markdown",
   "id": "f35939ac-fd29-43bc-bc55-02153d976c6e",
   "metadata": {},
   "source": [
    "Разделим данные по выборкам."
   ]
  },
  {
   "cell_type": "code",
   "execution_count": 21,
   "id": "c790b191-5d09-4bf5-b3b7-edb47e5896af",
   "metadata": {},
   "outputs": [],
   "source": [
    "A = data[data['test group'] == 'ad']\n",
    "B = data[data['test group'] == 'psa']"
   ]
  },
  {
   "cell_type": "code",
   "execution_count": 23,
   "id": "0036dfa7-9b26-46e8-9331-3db7622c38bf",
   "metadata": {},
   "outputs": [
    {
     "name": "stdout",
     "output_type": "stream",
     "text": [
      "Доверительный интервал для конверсии в группе А: (2.35, 2.76)\n",
      "Доверительный интервал для конверсии в группе B: (1.62, 1.95)\n"
     ]
    },
    {
     "data": {
      "image/png": "[encoded data removed]",
      "text/plain": [
       "<Figure size 800x600 with 1 Axes>"
      ]
     },
     "metadata": {},
     "output_type": "display_data"
    }
   ],
   "source": [
    "# доверительный интервал для конверсии в группе А\n",
    "lower_bound_a, upper_bound_a  = proportion_conf_interval(\n",
    "    x_p=A['converted'].mean(), \n",
    "    n=B['user id'].count() \n",
    ")\n",
    "\n",
    "# доверительный интервал для конверсии в группе B\n",
    "lower_bound_b, upper_bound_b  = proportion_conf_interval(\n",
    "    x_p=B['converted'].mean(), \n",
    "    n=B['user id'].count() \n",
    ")\n",
    "\n",
    "print('Доверительный интервал для конверсии в группе А: {}'.format((round(lower_bound_a * 100, 2), round(upper_bound_a * 100, 2))))\n",
    "print('Доверительный интервал для конверсии в группе B: {}'.format((round(lower_bound_b * 100, 2), round(upper_bound_b * 100, 2))))\n",
    "\n",
    "# визуализация данных\n",
    "groups = ['Группа А', 'Группа B']\n",
    "means = [A['converted'].mean(), B['converted'].mean()]\n",
    "ci_lowers = [lower_bound_a, lower_bound_b]\n",
    "ci_uppers = [upper_bound_a, upper_bound_b]\n",
    "\n",
    "fig, ax = plt.subplots(figsize=(8, 6))\n",
    "ax.bar(groups, means, yerr=[np.subtract(means, ci_lowers), np.subtract(ci_uppers, means)], capsize=10, color=['green', 'purple'])\n",
    "ax.set_ylabel('Конверсия')\n",
    "ax.set_title('Доверительный интервал для конверсии')\n",
    "ax.grid(True)\n",
    "\n",
    "plt.show()"
   ]
  },
  {
   "cell_type": "markdown",
   "id": "b228da8d-888c-4ee0-9311-b1cd286aa03a",
   "metadata": {},
   "source": [
    "Доверительные интервалы не пересекаются, что свидетельствует о наличии разницы между конверсиями двух групп."
   ]
  },
  {
   "cell_type": "markdown",
   "id": "db191938-cb81-4979-9edc-4d55f2ac439e",
   "metadata": {},
   "source": [
    "Произведем расчет доверительного интервала для разницы конверсий."
   ]
  },
  {
   "cell_type": "code",
   "execution_count": 25,
   "id": "d268b6a1-0ade-4785-ad5f-812f535a0ef2",
   "metadata": {},
   "outputs": [],
   "source": [
    "def diff_proportion_conf_interval(x_p, n, gamma=0.95):\n",
    "    alpha = 1 - gamma \n",
    "    diff = x_p[1] - x_p[0] \n",
    "    z_crit = -norm.ppf(alpha/2) \n",
    "    eps = z_crit * (x_p[0] * (1 - x_p[0])/n[0] + x_p[1] * (1 - x_p[1])/n[1]) ** 0.5 \n",
    "    lower_bound = diff - eps \n",
    "    upper_bound = diff + eps \n",
    "    return lower_bound, upper_bound"
   ]
  },
  {
   "cell_type": "code",
   "execution_count": 27,
   "id": "b03fcc04-994d-4b6d-a0dd-070f9ba8b5dc",
   "metadata": {},
   "outputs": [
    {
     "name": "stdout",
     "output_type": "stream",
     "text": [
      "Доверительный интервал для разности конверсий: (-0.94, -0.6)\n"
     ]
    }
   ],
   "source": [
    "n = [A['user id'].count(), B['user id'].count()]\n",
    "x_p = [A['converted'].mean(), B['converted'].mean()]\n",
    "lower_bound, upper_bound = diff_proportion_conf_interval(x_p=x_p, n=n)\n",
    "\n",
    "print('Доверительный интервал для разности конверсий: {}'.format((round(lower_bound*100, 2), round(upper_bound*100, 2))))"
   ]
  },
  {
   "cell_type": "markdown",
   "id": "1edbcf44-e9c5-47cf-8339-5202d23dfbde",
   "metadata": {},
   "source": [
    "Интервал полностью отрицательный. Это значит, что варианты А и B не равнозначны по метрике конверсии. Отсюда можно сделать вывод, что существует статистическая разница в конверсии между вариантами А и B, то есть по данной метрике группа B уступает."
   ]
  },
  {
   "cell_type": "markdown",
   "id": "df45bcdb-26ad-4b8f-8b30-253308b641be",
   "metadata": {},
   "source": [
    "**1) Исследуем различия по среднему количеству увиденной рекламмы в группах.**"
   ]
  },
  {
   "cell_type": "markdown",
   "id": "867bac92-3e70-4e4c-8060-5c08c693b355",
   "metadata": {},
   "source": [
    "Сформулируем статистические гипотезы (исходя из первичного вывода):\n",
    "- $H_0:$ среднее количество увиденной рекламы не отличается в группах А и В\n",
    "- $H_1:$ среднее количество увиденной рекламы отличается в группах А и В"
   ]
  },
  {
   "cell_type": "markdown",
   "id": "ecfa672d-9a07-4f40-b60e-181695c7775f",
   "metadata": {},
   "source": [
    "Посмотрим на распределение данных на графиках."
   ]
  },
  {
   "cell_type": "code",
   "execution_count": 29,
   "id": "12f42a58-2f51-4716-8323-299e3f5dd63b",
   "metadata": {},
   "outputs": [
    {
     "data": {
      "image/png": "[encoded data removed]",
      "text/plain": [
       "<Figure size 1000x600 with 2 Axes>"
      ]
     },
     "metadata": {},
     "output_type": "display_data"
    }
   ],
   "source": [
    "fig, (ax1, ax2) = plt.subplots(1, 2, figsize=(10, 6))\n",
    "\n",
    "# группа A\n",
    "ax1.hist(A['total ads'], bins=10, alpha=0.7, color='green')\n",
    "ax1.set_title('Распределение показов рекламы в группе А')\n",
    "ax1.set_xlabel('Количество показов рекламы')\n",
    "ax1.set_ylabel('Частота')\n",
    "ax1.grid(True)\n",
    "\n",
    "# группа B \n",
    "ax2.hist(B['total ads'], bins=10, alpha=0.7, color='blue')\n",
    "ax2.set_title('Распределение показов рекламы в группе B')\n",
    "ax2.set_xlabel('Количество показов рекламы')\n",
    "ax2.grid(True)\n",
    "\n",
    "plt.tight_layout()\n",
    "plt.show()"
   ]
  },
  {
   "cell_type": "markdown",
   "id": "7600473d-3151-48af-85a3-5110619242e6",
   "metadata": {},
   "source": [
    "Исходя из графиков мы видим, что данные распределены не нормально. Убедимся в этом также с помощью теста Шапиро-Уилка."
   ]
  },
  {
   "cell_type": "code",
   "execution_count": 31,
   "id": "af44e2ff-2381-40b4-93b1-3b0f918119b2",
   "metadata": {},
   "outputs": [
    {
     "name": "stdout",
     "output_type": "stream",
     "text": [
      "p-value группы А 3.701044472444164e-203\n",
      "p-value группы B 7.270789402370636e-120\n",
      "Отвергаем нулевую гипотезу в пользу альтернативной. Распределение в группе А отлично от нормального\n",
      "Отвергаем нулевую гипотезу в пользу альтернативной. Распределение в группе B отлично от нормального\n"
     ]
    }
   ],
   "source": [
    "shapiro_result_a = shapiro(A['total ads'])\n",
    "shapiro_result_b = shapiro(B['total ads'])\n",
    "print('p-value группы А', shapiro_result_a.pvalue)\n",
    "print('p-value группы B', shapiro_result_b.pvalue)\n",
    "\n",
    "# сравниваем полученное p-value для группы А с уровнем значимости\n",
    "if shapiro_result_a.pvalue <= alpha:\n",
    "    print(\"Отвергаем нулевую гипотезу в пользу альтернативной. Распределение в группе А отлично от нормального\")\n",
    "else:\n",
    "    print(\"Принимаем нулевую гипотезу. Распределение в группе А является нормальным\")\n",
    "\n",
    "# сравниваем полученное p-value для группы B с уровнем значимости\n",
    "if shapiro_result_b.pvalue <= alpha:\n",
    "    print(\"Отвергаем нулевую гипотезу в пользу альтернативной. Распределение в группе B отлично от нормального\")\n",
    "else:\n",
    "    print(\"Принимаем нулевую гипотезу. Распределение в группе B является нормальным\")"
   ]
  },
  {
   "cell_type": "markdown",
   "id": "5f8df656-548c-45da-ab6e-f732e62dc233",
   "metadata": {},
   "source": [
    "Так как данные распределены не нормально, далее нам придётся обратиться к непараметрическим тестам, например, к критерию Манна — Уитни (U-тест)."
   ]
  },
  {
   "cell_type": "code",
   "execution_count": 33,
   "id": "13190545-c561-4c8c-b9a4-8481ab1d3c7f",
   "metadata": {},
   "outputs": [
    {
     "name": "stdout",
     "output_type": "stream",
     "text": [
      "p-value: 4.6909108547205694e-11\n",
      "Отвергаем нулевую гипотезу в пользу альтернативной\n"
     ]
    }
   ],
   "source": [
    "results = mannwhitneyu(\n",
    "    x=A['total ads'],\n",
    "    y=B['total ads'],\n",
    "    alternative='two-sided'\n",
    ")\n",
    "print('p-value:', results.pvalue)\n",
    "\n",
    "# сравниваем полученное p-value с уровнем значимости\n",
    "if results.pvalue <= alpha:\n",
    "    print(\"Отвергаем нулевую гипотезу в пользу альтернативной\")\n",
    "else:\n",
    "    print(\"У нас нет оснований отвергнуть нулевую гипотезу\")"
   ]
  },
  {
   "cell_type": "markdown",
   "id": "855ce327-b120-4f18-a1dd-005012860914",
   "metadata": {},
   "source": [
    "Из чего делаем вывод, что существует статистическая разница между количеством увиденной рекламы в группах."
   ]
  },
  {
   "cell_type": "markdown",
   "id": "36926df9-21d7-40db-8a19-459bc0b29cc2",
   "metadata": {},
   "source": [
    "Произведем расчет доверительного интервала."
   ]
  },
  {
   "cell_type": "code",
   "execution_count": 35,
   "id": "2877bb28-f529-43cd-b7bc-7ae7b3dec795",
   "metadata": {},
   "outputs": [
    {
     "name": "stdout",
     "output_type": "stream",
     "text": [
      "Доверительный интервал среднего количества увиденной рекламы в группе A: (24.71, -0.01)\n",
      "Доверительный интервал среднего количества увиденной рекламы в группе B: (24.21, -0.01)\n"
     ]
    }
   ],
   "source": [
    "def z_mean_conf_interval(x_mean, sigma, n, gamma=0.95):  \n",
    "    alpha = 1 - gamma  \n",
    "    z_crit = -norm.ppf(alpha/2) \n",
    "    eps = z_crit * sigma/(n ** 0.5)\n",
    "    lower_bound = x_mean - eps  \n",
    "    return lower_bound, upper_bound\n",
    "\n",
    "# стандартное отклонение и среднее значение для группы А\n",
    "sigma_A = A['total ads'].std()\n",
    "x_mean_A = A['total ads'].mean()\n",
    "n_A = A['total ads'].count()\n",
    "lower_boundA, upper_boundA = z_mean_conf_interval(x_mean_A, sigma_A, n_A)\n",
    "\n",
    "# стандартное отклонение и среднее значение для группы В\n",
    "sigma_B = B['total ads'].std()\n",
    "x_mean_B = B['total ads'].mean()\n",
    "n_B = B['total ads'].count()\n",
    "lower_boundB, upper_boundB = z_mean_conf_interval(x_mean_B, sigma_B, n_B)\n",
    "\n",
    "\n",
    "print('Доверительный интервал среднего количества увиденной рекламы в группе A: {}'.format((round(lower_boundA,2), round(upper_boundA,2))))\n",
    "print('Доверительный интервал среднего количества увиденной рекламы в группе B: {}'.format((round(lower_boundB,2), round(upper_boundB,2))))"
   ]
  },
  {
   "cell_type": "markdown",
   "id": "1d1e0198-4c4b-41d7-8394-a36591466cf8",
   "metadata": {},
   "source": [
    "Построим также визуализацию доверительных интервалов."
   ]
  },
  {
   "cell_type": "code",
   "execution_count": 37,
   "id": "ba84a69f-2359-482a-a19c-3e80bcf0a83b",
   "metadata": {},
   "outputs": [
    {
     "data": {
      "image/png": "[encoded data removed]",
      "text/plain": [
       "<Figure size 900x500 with 1 Axes>"
      ]
     },
     "metadata": {},
     "output_type": "display_data"
    }
   ],
   "source": [
    "fig = plt.figure(figsize=(9, 5))\n",
    "ax = fig.add_axes([0.1, 0.1, 0.9, 0.9]) \n",
    "\n",
    "sns.boxplot(data=data, x='total ads', y='test group', ax=ax, showfliers=False, color='green')\n",
    "ax.set_title('Среднее количество увиденной рекламы по группам')\n",
    "ax.grid(True)\n",
    "\n",
    "positions = [0, 1]\n",
    "means = [x_mean_A, x_mean_B]\n",
    "ci_lower_bounds = [lower_boundA, lower_boundB]\n",
    "ci_upper_bounds = [upper_boundA, upper_boundB]\n",
    "\n",
    "for pos, mean, lower, upper in zip(positions, means, ci_lower_bounds, ci_upper_bounds):\n",
    "    lower_error = max(0, mean - lower)  \n",
    "    upper_error = max(0, upper - mean)  \n",
    "    \n",
    "    ax.errorbar(x=mean, y=pos, xerr=[[lower_error], [upper_error]], fmt='o', color='red', capsize=15)\n",
    "\n",
    "plt.show()"
   ]
  },
  {
   "cell_type": "markdown",
   "id": "e1f095e2-71c7-4fcd-8a8d-45d2e5e64578",
   "metadata": {},
   "source": [
    "Доверительные интервалы практически одинаковые, а значит, что среднее число увиденной рекламы в группах не отличается."
   ]
  },
  {
   "cell_type": "markdown",
   "id": "5ec25e62-426d-436f-8747-ca4737af6587",
   "metadata": {},
   "source": [
    "**Общий вывод:** Таким образом, можно заключить, что количество показов рекламы в обеих группах не отличается. Несмотря на то, что результаты теста Манна-Уитни показали статистически значимое различие, значения доверительных интервалов указывают на отсутствие различий между средними показателями в обеих группах. Это позволяет нам утверждать, что влияние фактора было одинаковым в обеих группах. В то же время конверсия оказалась значительно выше в группе с рекламой, что было подтверждено как результатами Z-теста пропорций, так и расчетами доверительных интервалов для конверсий и разницы между ними. Исходя из вышеизложенного, можно утверждать, что успех рекламной кампании обоснован именно рекламой, и реклама может принести компании прибыль."
   ]
  }
 ],
 "metadata": {
  "kernelspec": {
   "display_name": "Python 3 (ipykernel)",
   "language": "python",
   "name": "python3"
  },
  "language_info": {
   "codemirror_mode": {
    "name": "ipython",
    "version": 3
   },
   "file_extension": ".py",
   "mimetype": "text/x-python",
   "name": "python",
   "nbconvert_exporter": "python",
   "pygments_lexer": "ipython3",
   "version": "3.12.4"
  }
 },
 "nbformat": 4,
 "nbformat_minor": 5
}
