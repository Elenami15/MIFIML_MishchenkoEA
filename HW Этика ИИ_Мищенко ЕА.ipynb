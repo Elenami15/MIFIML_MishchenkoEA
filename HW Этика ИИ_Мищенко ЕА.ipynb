{
 "cells": [
  {
   "cell_type": "code",
   "execution_count": 1,
   "id": "18476f01-24af-4936-ac82-c3de809686a4",
   "metadata": {},
   "outputs": [],
   "source": [
    "import numpy as np\n",
    "import pandas as pd\n",
    "from sklearn.model_selection import train_test_split\n",
    "from sklearn.feature_extraction.text import CountVectorizer\n",
    "from sklearn.linear_model import LogisticRegression\n",
    "from sklearn.metrics import accuracy_score"
   ]
  },
  {
   "cell_type": "markdown",
   "id": "15217b61-4ae0-4fe2-ab6f-e997a7f8c610",
   "metadata": {},
   "source": [
    "### Загрузка и исследование данных"
   ]
  },
  {
   "cell_type": "code",
   "execution_count": 3,
   "id": "6a9c40a5-4558-425c-a97f-57523b33ae1b",
   "metadata": {},
   "outputs": [],
   "source": [
    "# Get the same results each time\n",
    "np.random.seed(0)\n",
    "\n",
    "\n",
    "# Load the training data\n",
    "data = pd.read_csv(\"data.csv\")\n",
    "comments = data[\"comment_text\"]\n",
    "target = (data[\"target\"]>0.7).astype(int)"
   ]
  },
  {
   "cell_type": "code",
   "execution_count": 5,
   "id": "5300b03b-a979-49ef-8339-f4bb0428c406",
   "metadata": {},
   "outputs": [
    {
     "data": {
      "text/plain": [
       "0                 haha you guys are a bunch of losers.\n",
       "1    Yet call out all Muslims for the acts of a few...\n",
       "2    This bitch is nuts. Who would read a book by a...\n",
       "3                                     You're an idiot.\n",
       "4    Who cares!? Stark trek and Star Wars fans are ...\n",
       "Name: comment_text, dtype: object"
      ]
     },
     "execution_count": 5,
     "metadata": {},
     "output_type": "execute_result"
    }
   ],
   "source": [
    "comments.head()"
   ]
  },
  {
   "cell_type": "code",
   "execution_count": 7,
   "id": "003b0c1a-9e46-43b3-9db4-6667df4e5d62",
   "metadata": {},
   "outputs": [
    {
     "name": "stdout",
     "output_type": "stream",
     "text": [
      "<class 'pandas.core.series.Series'>\n",
      "RangeIndex: 90902 entries, 0 to 90901\n",
      "Series name: comment_text\n",
      "Non-Null Count  Dtype \n",
      "--------------  ----- \n",
      "90902 non-null  object\n",
      "dtypes: object(1)\n",
      "memory usage: 710.3+ KB\n"
     ]
    }
   ],
   "source": [
    "comments.info()"
   ]
  },
  {
   "cell_type": "code",
   "execution_count": 9,
   "id": "4a1968be-fb5a-4f52-af3c-e0e42816844e",
   "metadata": {},
   "outputs": [
    {
     "data": {
      "text/plain": [
       "(90902,)"
      ]
     },
     "execution_count": 9,
     "metadata": {},
     "output_type": "execute_result"
    }
   ],
   "source": [
    "comments.shape"
   ]
  },
  {
   "cell_type": "code",
   "execution_count": 11,
   "id": "ab4fad1c-a2c1-4e5b-a070-01eba3374ef9",
   "metadata": {},
   "outputs": [
    {
     "data": {
      "text/plain": [
       "0    1\n",
       "1    1\n",
       "2    1\n",
       "3    1\n",
       "4    1\n",
       "Name: target, dtype: int32"
      ]
     },
     "execution_count": 11,
     "metadata": {},
     "output_type": "execute_result"
    }
   ],
   "source": [
    "target.head()"
   ]
  },
  {
   "cell_type": "code",
   "execution_count": 13,
   "id": "db05754f-3cd5-48c4-8d02-1405e18b0b89",
   "metadata": {},
   "outputs": [
    {
     "name": "stdout",
     "output_type": "stream",
     "text": [
      "<class 'pandas.core.series.Series'>\n",
      "RangeIndex: 90902 entries, 0 to 90901\n",
      "Series name: target\n",
      "Non-Null Count  Dtype\n",
      "--------------  -----\n",
      "90902 non-null  int32\n",
      "dtypes: int32(1)\n",
      "memory usage: 355.2 KB\n"
     ]
    }
   ],
   "source": [
    "target.info()"
   ]
  },
  {
   "cell_type": "code",
   "execution_count": 15,
   "id": "5ad7d3e9-b315-4a41-9174-07c9c66a01b5",
   "metadata": {},
   "outputs": [
    {
     "data": {
      "text/plain": [
       "(90902,)"
      ]
     },
     "execution_count": 15,
     "metadata": {},
     "output_type": "execute_result"
    }
   ],
   "source": [
    "target.shape"
   ]
  },
  {
   "cell_type": "markdown",
   "id": "61d93d38-95c8-49ac-93b7-c73e120bf1da",
   "metadata": {},
   "source": [
    "В датасетах target и comments отсутствуют пропуски, размерность одинаковая."
   ]
  },
  {
   "cell_type": "markdown",
   "id": "dcb7246e-4ae6-4a5d-9031-af6fd0e4299b",
   "metadata": {},
   "source": [
    "#### Задание 1."
   ]
  },
  {
   "cell_type": "markdown",
   "id": "ffa2b744-78b9-4fd0-bd3d-1438aee071da",
   "metadata": {},
   "source": [
    "**Теперь разделим наши данные на train и test. Пусть в тест у нас пойдет 30% данных. Для этого можете использовать библиотеку train_test_split из sklearn.**"
   ]
  },
  {
   "cell_type": "code",
   "execution_count": 17,
   "id": "31bf5a77-f7a2-4593-91bb-3b6aab57740a",
   "metadata": {},
   "outputs": [
    {
     "name": "stdout",
     "output_type": "stream",
     "text": [
      "X train shape: (63631,), y train shape: (63631,)\n",
      "X test shape: (27271,), y test shape: (27271,)\n",
      "\n",
      "X train: 12294                                    Muslim terrorist.\n",
      "57506    It's ironic that these are the same groups tha...\n",
      "56118    Star Wars has a wow factor that Star Trek does...\n",
      "28624    The settlement is 100% appropriate.\\nEnding th...\n",
      "63482    Where did it say to cover your cough with your...\n",
      "                               ...                        \n",
      "6265     You fit perfectly in Clinton's libdem basket o...\n",
      "54886    I'll bet those independent contractors have no...\n",
      "76820    \"Lower tier\" people, especially the young, wer...\n",
      "860      The Devil made her do it and the man too becau...\n",
      "15795    A leak in an 8\" pipe, while obviously not a go...\n",
      "Name: comment_text, Length: 63631, dtype: object\n",
      "\n",
      "y train: 12294    1\n",
      "57506    0\n",
      "56118    0\n",
      "28624    1\n",
      "63482    0\n",
      "        ..\n",
      "6265     1\n",
      "54886    0\n",
      "76820    0\n",
      "860      1\n",
      "15795    1\n",
      "Name: target, Length: 63631, dtype: int32\n",
      "\n",
      "X test: 80470    Not meaning to belittle your practical concern...\n",
      "28773    Did you mean to imply that the bears are dying...\n",
      "76685    As a 9-year dispatch veteran, let me break it ...\n",
      "12580    A your wimp is traveling across Canada instead...\n",
      "16111    Oh Dispatch, you right wing media elitist rag....\n",
      "                               ...                        \n",
      "27748    The problem with Trump's misogyny is that when...\n",
      "86400                                                 Why?\n",
      "40444    Bull crap!!! ask the Venezuelan's if their \\n\"...\n",
      "53979    Well if you read and understood my posts, you ...\n",
      "13216    you guys really still think that after 40 year...\n",
      "Name: comment_text, Length: 27271, dtype: object\n",
      "\n",
      "y test: 80470    0\n",
      "28773    1\n",
      "76685    0\n",
      "12580    1\n",
      "16111    1\n",
      "        ..\n",
      "27748    1\n",
      "86400    0\n",
      "40444    1\n",
      "53979    0\n",
      "13216    1\n",
      "Name: target, Length: 27271, dtype: int32\n"
     ]
    }
   ],
   "source": [
    "X_train, X_test, y_train, y_test = train_test_split(comments,\n",
    "                                                    target,\n",
    "                                                    test_size=0.3,\n",
    "                                                    random_state=42)\n",
    "\n",
    "print(f'X train shape: {X_train.shape}, y train shape: {y_train.shape}')\n",
    "print(f'X test shape: {X_test.shape}, y test shape: {y_test.shape}')\n",
    "print(\"\\nX train:\", X_train)\n",
    "print(\"\\ny train:\", y_train)\n",
    "print(\"\\nX test:\", X_test)\n",
    "print(\"\\ny test:\", y_test)"
   ]
  },
  {
   "cell_type": "markdown",
   "id": "656d2202-2bca-4f7b-840a-55dbf9fc738d",
   "metadata": {},
   "source": [
    "#### Задание 2."
   ]
  },
  {
   "cell_type": "markdown",
   "id": "bcaee4ce-6497-401f-8ea5-01fafc052365",
   "metadata": {},
   "source": [
    "**Преобразуйте текст, который вы поделили на train и test, в числовой формат с помощью функции CountVectorizer.**"
   ]
  },
  {
   "cell_type": "code",
   "execution_count": 19,
   "id": "7acd740b-4b74-4cbc-958d-dd490d4cdd79",
   "metadata": {},
   "outputs": [],
   "source": [
    "# Обрабатываем текстовые данные с помощью CountVectorizer\n",
    "vectorizer = CountVectorizer(max_features=500)\n",
    "X_train_vector = vectorizer.fit_transform(X_train)\n",
    "X_test_vector = vectorizer.fit_transform(X_test)"
   ]
  },
  {
   "cell_type": "code",
   "execution_count": 21,
   "id": "177bb63f-29d9-44f0-82c8-554b7f894251",
   "metadata": {},
   "outputs": [
    {
     "name": "stdout",
     "output_type": "stream",
     "text": [
      "X train shape: (63631,), X test shape: (27271,)\n",
      "X_train_vector shape: (63631, 500), X_test_vector shape: (27271, 500)\n"
     ]
    }
   ],
   "source": [
    "print(f'X train shape: {X_train.shape}, X test shape: {X_test.shape}')\n",
    "print(f'X_train_vector shape: {X_train_vector.shape}, X_test_vector shape: {X_test_vector.shape}')"
   ]
  },
  {
   "cell_type": "markdown",
   "id": "14125440-cd9e-4255-8b55-d88d7a4e2eb1",
   "metadata": {},
   "source": [
    "#### Задание 3."
   ]
  },
  {
   "cell_type": "markdown",
   "id": "355253f8-49bd-4ac3-a3e8-272b53c94f20",
   "metadata": {},
   "source": [
    "**Импортируйте из библиотеки sklearn логистическую регрессию LogisticRegression с параметром max_iter=2000. Для оценки модели возьмите метрику accuracy и посчитайте ее.**"
   ]
  },
  {
   "cell_type": "code",
   "execution_count": 23,
   "id": "546722a2-b5cd-44df-9d8a-c1045c23cf90",
   "metadata": {},
   "outputs": [
    {
     "name": "stdout",
     "output_type": "stream",
     "text": [
      "Accuracy: 0.6279\n"
     ]
    }
   ],
   "source": [
    "model = LogisticRegression(max_iter=2000)\n",
    "\n",
    "model.fit(X_train_vector, y_train)\n",
    "y_pred = model.predict(X_test_vector)\n",
    "\n",
    "accuracy = accuracy_score(y_test, y_pred)\n",
    "print(f\"Accuracy: {accuracy:.4f}\")"
   ]
  },
  {
   "cell_type": "markdown",
   "id": "de7892d2-f209-4cef-b823-084409d0915f",
   "metadata": {},
   "source": [
    "#### Задание 4."
   ]
  },
  {
   "cell_type": "markdown",
   "id": "b1093a47-83f1-4ba0-b6f6-872938dee467",
   "metadata": {},
   "source": [
    "**Чтобы мы смогли протестировать разные комментарии, которые приходят в голову, пропишите ниже функцию, для которой на вход мы бы подавали наш комментарий, а на выход получали предсказание, насколько от 0 до 1 комментарий является токсичным.**"
   ]
  },
  {
   "cell_type": "code",
   "execution_count": 25,
   "id": "388ffddb-db9a-48c9-b1d1-4f80d25e226d",
   "metadata": {},
   "outputs": [
    {
     "name": "stdout",
     "output_type": "stream",
     "text": [
      "Комментарий токсичен. Точность оценки: 0.9360\n",
      "Комментарий не токсичен. Точность оценки: 0.2910\n"
     ]
    }
   ],
   "source": [
    "def predict_toxic(comment):\n",
    "    # Преобразование нового комментария в вектор признаков\n",
    "    comment_vector = vectorizer.transform([comment])\n",
    "    \n",
    "    # Вероятность принадлежности к классу токсичных комментариев\n",
    "    pred_proba = model.predict_proba(comment_vector)[0][1]\n",
    "    \n",
    "    # Определение классификацию (токсичен если >= 0.5 / не токсичен если < 0.5)\n",
    "    if pred_proba >= 0.5:\n",
    "        result = 'Комментарий токсичен'\n",
    "    else:\n",
    "        result = 'Комментарий не токсичен'\n",
    "        \n",
    "    return f\"{result}. Точность оценки: {pred_proba:.4f}\"\n",
    "\n",
    "new_comment = \"The previous commentator is a loser\"\n",
    "output = predict_toxic(new_comment)\n",
    "print(output)\n",
    "\n",
    "new_comment2 = \"The previous commentator is a wonderful person\"\n",
    "output = predict_toxic(new_comment2)\n",
    "print(output)"
   ]
  },
  {
   "cell_type": "markdown",
   "id": "7a18a52f-1000-41ed-b43a-de6396906263",
   "metadata": {},
   "source": [
    "#### Задание 5."
   ]
  },
  {
   "cell_type": "markdown",
   "id": "c6998260-e72f-4785-8d4e-c6d115f71518",
   "metadata": {},
   "source": [
    "**Попробуйте предсказать, токсичен ли комментарий «Apples are stupid». Потом предскажите, токсичен ли комментарий «I love apples».**"
   ]
  },
  {
   "cell_type": "code",
   "execution_count": 29,
   "id": "68fae0d4-29bf-4d6f-a135-f21bdc11164d",
   "metadata": {},
   "outputs": [
    {
     "name": "stdout",
     "output_type": "stream",
     "text": [
      "Комментарий токсичен. Точность оценки: 0.9973\n",
      "Комментарий не токсичен. Точность оценки: 0.4060\n"
     ]
    }
   ],
   "source": [
    "test_comment = \"Apples are stupid\"\n",
    "output = predict_toxic(test_comment)\n",
    "print(output)\n",
    "\n",
    "test_comment2 = \"I love apples\"\n",
    "output = predict_toxic(test_comment2)\n",
    "print(output)"
   ]
  },
  {
   "cell_type": "markdown",
   "id": "14fd373e-8aea-4d88-be3d-739ad509d91a",
   "metadata": {},
   "source": [
    "#### Задание 6."
   ]
  },
  {
   "cell_type": "markdown",
   "id": "514e33e1-3993-4c38-af63-0fa21d5f15a7",
   "metadata": {},
   "source": [
    "**Выведите десять слов, которые считаются наиболее токсичными, а также их коэффициенты.**"
   ]
  },
  {
   "cell_type": "code",
   "execution_count": 31,
   "id": "c42a4a0b-023a-4521-850a-d570dc94ffc5",
   "metadata": {},
   "outputs": [
    {
     "name": "stdout",
     "output_type": "stream",
     "text": [
      "1. \"idiot\" (Коэффициент: 6.3224)\n",
      "2. \"idea\" (Коэффициент: 6.3061)\n",
      "3. \"stupid\" (Коэффициент: 6.2126)\n",
      "4. \"stupidity\" (Коэффициент: 5.5580)\n",
      "5. \"more\" (Коэффициент: 4.9504)\n",
      "6. \"dumb\" (Коэффициент: 4.6660)\n",
      "7. \"party\" (Коэффициент: 4.5905)\n",
      "8. \"crap\" (Коэффициент: 4.4008)\n",
      "9. \"damn\" (Коэффициент: 4.0990)\n",
      "10. \"if\" (Коэффициент: 4.0656)\n"
     ]
    }
   ],
   "source": [
    "# Cловарь признаков\n",
    "feature = list(vectorizer.get_feature_names_out())\n",
    "coeff = model.coef_[0]\n",
    "\n",
    "# Список пар (коэффициент, слово) и сортировка по убыванию значений коэффициента\n",
    "sort_coeff = sorted(zip(coeff, feature), reverse=True)\n",
    "\n",
    "top10_toxic_words = [(word, coef) for coef, word in sort_coeff[:10]]\n",
    "\n",
    "for i, (word, coef) in enumerate(top10_toxic_words):\n",
    "    print(f'{i+1}. \"{word}\" (Коэффициент: {coef:.4f})')"
   ]
  },
  {
   "cell_type": "markdown",
   "id": "908976f2-ccd6-4795-a6fb-318eb5f73d17",
   "metadata": {},
   "source": [
    "#### Задание 7."
   ]
  },
  {
   "cell_type": "markdown",
   "id": "2550352e-92c3-4bac-91dd-179b1e863fb3",
   "metadata": {},
   "source": [
    "**Взгляните на самые токсичные слова из задания 6. Вызывают ли у вас удивление какие-нибудь из них? Есть ли слова, которых, кажется, не должно быть в списке?**"
   ]
  },
  {
   "cell_type": "markdown",
   "id": "c7908b2d-c7b3-4fd4-aa16-76bf58c6f6b9",
   "metadata": {},
   "source": [
    "Слова \"idea\", \"more\", \"party\" и \"if\" несколько выбиваются из концепции и едва ли относятся к разряду \"токсичные\", но оставшаяся часть слов из списка топ-10 точно попадает в данную категорию."
   ]
  },
  {
   "cell_type": "markdown",
   "id": "4f9107a4-0bd2-4e6c-9722-1e0c1f3e9d7f",
   "metadata": {},
   "source": [
    "#### Задание 8."
   ]
  },
  {
   "cell_type": "markdown",
   "id": "ea90d79d-a145-4046-a0d7-c75032ce5521",
   "metadata": {},
   "source": [
    "**Давайте попробуем протестировать модель на ее предвзятость, например, к религии. Что думаете о получившихся результатах? Есть ли у модели bias? Этичен ли он?**"
   ]
  },
  {
   "cell_type": "code",
   "execution_count": 35,
   "id": "198cfe8a-6126-485b-9c91-5f77e7894c37",
   "metadata": {},
   "outputs": [
    {
     "name": "stdout",
     "output_type": "stream",
     "text": [
      "Комментарий не токсичен. Точность оценки: 0.4057\n",
      "Комментарий не токсичен. Точность оценки: 0.4057\n",
      "Комментарий не токсичен. Точность оценки: 0.4220\n",
      "Комментарий не токсичен. Точность оценки: 0.4183\n"
     ]
    }
   ],
   "source": [
    "religion_comment = \"I have a christian friend\"\n",
    "output = predict_toxic(religion_comment)\n",
    "print(output)\n",
    "\n",
    "religion_comment2 = \"I have a muslim friend\"\n",
    "output = predict_toxic(religion_comment2)\n",
    "print(output)\n",
    "\n",
    "religion_comment3 = \"I have a white friend\"\n",
    "output = predict_toxic(religion_comment3)\n",
    "print(output)\n",
    "\n",
    "religion_comment4 = \"I have a black friend\"\n",
    "output = predict_toxic(religion_comment4)\n",
    "print(output)"
   ]
  },
  {
   "cell_type": "markdown",
   "id": "c66c0356-58d9-4cc7-beac-8ed1447a9e7f",
   "metadata": {},
   "source": [
    "В целом, все высказывания относятся к нормальным, и модель это определила, таким образом можно говорить о непредвзятости и этичности модели."
   ]
  },
  {
   "cell_type": "markdown",
   "id": "d433dc9e-38ad-4be1-a734-2634615fed96",
   "metadata": {},
   "source": [
    "#### Задание 9."
   ]
  },
  {
   "cell_type": "markdown",
   "id": "74ca05cd-36d7-4cf8-bb63-aa17e8f7c6f6",
   "metadata": {},
   "source": [
    "**Вы заметили, что комментарии, относящиеся к исламу, с большей вероятностью будут токсичными, чем комментарии, относящиеся к другим религиям, поскольку онлайн-сообщество исламофобно. Какой тип предвзятости это может внести в вашу модель?**"
   ]
  },
  {
   "cell_type": "markdown",
   "id": "5d123f99-2f50-4946-9cc0-5e8bf037866c",
   "metadata": {},
   "source": [
    "Если в обучающих данных преобладают токсичные комментарии, касающиеся ислама, модель может научиться считать любые упоминания об исламе потенциально токсичными. Такая ситуация может привести к необоснованным ассоциациям и к ошибочной маркировке вполне нейтральных высказываний как агрессивных или враждебных. Последствием данной предвзятости становится снижение объективности и справедливости модели."
   ]
  },
  {
   "cell_type": "markdown",
   "id": "e33c3d2d-a48b-4eb4-ad71-f01613a992b5",
   "metadata": {},
   "source": [
    "#### Задание 10."
   ]
  },
  {
   "cell_type": "markdown",
   "id": "716a5dd6-03b7-4992-989b-f84f619cb931",
   "metadata": {},
   "source": [
    "**Подумайте о том, как можно улучшить алгоритм, чтобы сделать его более этичным. Напишите 1–2 идеи.**"
   ]
  },
  {
   "cell_type": "markdown",
   "id": "3c8b83d1-8fd5-418d-8a7a-fdd58d36c986",
   "metadata": {},
   "source": [
    "1) Можно попытаться установить, есть ли повторы наиболее часто встречающихся наборов слов и словосочетаний, и, если есть, попробовать классифицировать текст не только по словам, а также по обнаруженным сочетаниям слов;\n",
    "2) Можно увеличить количество нейтральных и позитивных примеров, чтобы предотвратить перекос в группах, а также попробовать удалить специфические термины."
   ]
  }
 ],
 "metadata": {
  "kernelspec": {
   "display_name": "Python 3 (ipykernel)",
   "language": "python",
   "name": "python3"
  },
  "language_info": {
   "codemirror_mode": {
    "name": "ipython",
    "version": 3
   },
   "file_extension": ".py",
   "mimetype": "text/x-python",
   "name": "python",
   "nbconvert_exporter": "python",
   "pygments_lexer": "ipython3",
   "version": "3.12.4"
  }
 },
 "nbformat": 4,
 "nbformat_minor": 5
}
